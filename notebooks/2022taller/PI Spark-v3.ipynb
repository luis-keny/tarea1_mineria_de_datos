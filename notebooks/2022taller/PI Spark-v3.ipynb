{
 "cells": [
  {
   "cell_type": "markdown",
   "id": "4ae9a67a",
   "metadata": {},
   "source": [
    "# Objetivo\n",
    "\n",
    "Pronósticar si se realizará la venta o no"
   ]
  },
  {
   "cell_type": "code",
   "execution_count": null,
   "id": "a9015046",
   "metadata": {},
   "outputs": [],
   "source": [
    "# ATENCIÓN:\n",
    "\n",
    "# Este cuaderno de jupyter debe ser ejecutado con Spark\n",
    "# PS C:\\sdev> docker run -it --rm -d -p 8888:8888 --name pyspark -v C:\\sdev\\spark:/home/jovyan jupyter/pyspark-notebook\n",
    "\n",
    "# En la consola de comando copie el comando docker anterior, cambie la ubicación de ser necesario y ejecute"
   ]
  },
  {
   "cell_type": "code",
   "execution_count": 2,
   "id": "49f5e7b6",
   "metadata": {},
   "outputs": [],
   "source": [
    "import matplotlib.pyplot as plt\n",
    "import seaborn as sns\n"
   ]
  },
  {
   "cell_type": "markdown",
   "id": "003b7ba7",
   "metadata": {},
   "source": [
    "# Step 1) Basic operation with PySpark\n",
    "Basado en https://www.guru99.com/pyspark-tutorial.html"
   ]
  },
  {
   "cell_type": "code",
   "execution_count": 3,
   "id": "5ed2df92",
   "metadata": {},
   "outputs": [
    {
     "name": "stderr",
     "output_type": "stream",
     "text": [
      "WARNING: An illegal reflective access operation has occurred\n",
      "WARNING: Illegal reflective access by org.apache.spark.unsafe.Platform (file:/usr/local/spark-3.2.0-bin-hadoop3.2/jars/spark-unsafe_2.12-3.2.0.jar) to constructor java.nio.DirectByteBuffer(long,int)\n",
      "WARNING: Please consider reporting this to the maintainers of org.apache.spark.unsafe.Platform\n",
      "WARNING: Use --illegal-access=warn to enable warnings of further illegal reflective access operations\n",
      "WARNING: All illegal access operations will be denied in a future release\n",
      "Using Spark's default log4j profile: org/apache/spark/log4j-defaults.properties\n",
      "Setting default log level to \"WARN\".\n",
      "To adjust logging level use sc.setLogLevel(newLevel). For SparkR, use setLogLevel(newLevel).\n",
      "21/12/13 02:59:29 WARN NativeCodeLoader: Unable to load native-hadoop library for your platform... using builtin-java classes where applicable\n",
      "21/12/13 02:59:29 WARN Utils: Service 'SparkUI' could not bind on port 4040. Attempting port 4041.\n",
      "/usr/local/spark/python/pyspark/sql/context.py:77: FutureWarning: Deprecated in 3.0.0. Use SparkSession.builder.getOrCreate() instead.\n",
      "  warnings.warn(\n"
     ]
    }
   ],
   "source": [
    "from pyspark import SparkContext, SQLContext\n",
    "from pyspark.sql.session import SparkSession\n",
    "\n",
    "sc = SparkContext.getOrCreate()\n",
    "sqlContext = SQLContext(sc)\n",
    "spark = SparkSession(sc)"
   ]
  },
  {
   "cell_type": "code",
   "execution_count": 4,
   "id": "e8d54ca3",
   "metadata": {},
   "outputs": [
    {
     "data": {
      "text/plain": [
       "'3.2.0'"
      ]
     },
     "execution_count": 4,
     "metadata": {},
     "output_type": "execute_result"
    }
   ],
   "source": [
    "sc.version"
   ]
  },
  {
   "cell_type": "code",
   "execution_count": 5,
   "id": "87317f9e",
   "metadata": {},
   "outputs": [
    {
     "name": "stderr",
     "output_type": "stream",
     "text": [
      "\r",
      "[Stage 2:>                                                          (0 + 1) / 1]\r",
      "\r",
      "                                                                                \r"
     ]
    },
    {
     "data": {
      "text/plain": [
       "[Row(ID Cólegio=5, Colegio='I.E.P NUESTRA SEÑORA DE MONSERRAT', Adopción en Soles='19,707.20', Ventas='SI', Ventas en Soles='12,458.89', % no Compra=0.3678, Asesorías='NO', Costo de Asesoría=0, Participó en Eventos='SI', Tiene Muestras='SI', Costo de Muestras='895.64', Costo de Producto de Venta='9,219.58', Tipo de Canal='DIRECTO', Tiempo de visitas en días=18, Lugar de Venta='LIMA'),\n",
       " Row(ID Cólegio=14, Colegio='INMACULADA CONCEPCION', Adopción en Soles='59,082.87', Ventas='SI', Ventas en Soles='35,306.33', % no Compra=0.402426898, Asesorías='SI', Costo de Asesoría=300, Participó en Eventos='SI', Tiene Muestras='SI', Costo de Muestras='165.11', Costo de Producto de Venta='26,126.69', Tipo de Canal='INDIRECTO', Tiempo de visitas en días=30, Lugar de Venta='PROVINCIAS'),\n",
       " Row(ID Cólegio=28, Colegio='NUESTRA SEÑORA DE LA MERCED', Adopción en Soles='51,169.50', Ventas='SI', Ventas en Soles='29,907.83', % no Compra=0.415514459, Asesorías='NO', Costo de Asesoría=0, Participó en Eventos='SI', Tiene Muestras='SI', Costo de Muestras='450.29', Costo de Producto de Venta='22,131.80', Tipo de Canal='INDIRECTO', Tiempo de visitas en días=11, Lugar de Venta='PROVINCIAS')]"
      ]
     },
     "execution_count": 5,
     "metadata": {},
     "output_type": "execute_result"
    }
   ],
   "source": [
    "df = sqlContext.read.format('csv').options(header='true', inferschema='true')\\\n",
    "    .option(\"delimiter\", \";\").option(\"encoding\", \"ISO-8859-1\").load('Datos Fuente para proyecto integrador.csv')\n",
    "df.rdd.take(3)\n",
    "#df.rdd.collect()"
   ]
  },
  {
   "cell_type": "code",
   "execution_count": 7,
   "id": "aa15f964",
   "metadata": {},
   "outputs": [],
   "source": [
    "# Feature selection\n",
    "COLUMNS = ['Adopción en Soles', 'Ventas',\n",
    "       'Ventas en Soles', '% no Compra', 'Asesorías', 'Costo de Asesoría',\n",
    "       'Participó en Eventos', 'Tiene Muestras', 'Costo de Muestras',\n",
    "       'Costo de Producto de Venta', 'Tipo de Canal',\n",
    "       'Tiempo de visitas en días', 'Lugar de Venta']\n",
    "\n",
    "COLUMNS = ['Ventas',\n",
    "       'Asesorías', \n",
    "       'Participó en Eventos', 'Tiene Muestras', \n",
    "       'Tipo de Canal',\n",
    "       'Tiempo de visitas en días', 'Lugar de Venta']"
   ]
  },
  {
   "cell_type": "code",
   "execution_count": 8,
   "id": "87ec3756",
   "metadata": {},
   "outputs": [
    {
     "name": "stdout",
     "output_type": "stream",
     "text": [
      "+------+---------+--------------------+--------------+-------------+-------------------------+--------------+\n",
      "|Ventas|Asesorías|Participó en Eventos|Tiene Muestras|Tipo de Canal|Tiempo de visitas en días|Lugar de Venta|\n",
      "+------+---------+--------------------+--------------+-------------+-------------------------+--------------+\n",
      "|    SI|       NO|                  SI|            SI|      DIRECTO|                       18|          LIMA|\n",
      "|    SI|       SI|                  SI|            SI|    INDIRECTO|                       30|    PROVINCIAS|\n",
      "|    SI|       NO|                  SI|            SI|    INDIRECTO|                       11|    PROVINCIAS|\n",
      "|    SI|       SI|                  SI|            SI|      DIRECTO|                       24|          LIMA|\n",
      "|    SI|       SI|                  NO|            SI|    INDIRECTO|                       38|          LIMA|\n",
      "|    SI|       SI|                  SI|            SI|    INDIRECTO|                        8|    PROVINCIAS|\n",
      "|    SI|       NO|                  SI|            SI|      DIRECTO|                       30|          LIMA|\n",
      "|    SI|       NO|                  NO|            NO|    INDIRECTO|                        4|          LIMA|\n",
      "|    SI|       SI|                  SI|            SI|    INDIRECTO|                       19|    PROVINCIAS|\n",
      "|    SI|       NO|                  NO|            NO|      DIRECTO|                       27|          LIMA|\n",
      "|    SI|       NO|                  NO|            NO|      DIRECTO|                        6|          LIMA|\n",
      "|    SI|       NO|                  SI|            NO|      DIRECTO|                       11|          LIMA|\n",
      "|    SI|       NO|                  SI|            NO|      DIRECTO|                       19|          LIMA|\n",
      "|    SI|       NO|                  SI|            NO|      DIRECTO|                       28|          LIMA|\n",
      "|    SI|       NO|                  SI|            SI|    INDIRECTO|                        9|    PROVINCIAS|\n",
      "|    SI|       SI|                  SI|            SI|      DIRECTO|                       35|          LIMA|\n",
      "|    SI|       NO|                  NO|            SI|      DIRECTO|                       16|          LIMA|\n",
      "|    SI|       NO|                  NO|            NO|    INDIRECTO|                       17|          LIMA|\n",
      "|    SI|       SI|                  NO|            SI|      DIRECTO|                       32|          LIMA|\n",
      "|    SI|       NO|                  SI|            NO|      DIRECTO|                       22|          LIMA|\n",
      "+------+---------+--------------------+--------------+-------------+-------------------------+--------------+\n",
      "only showing top 20 rows\n",
      "\n"
     ]
    }
   ],
   "source": [
    "#1. Preparación de datos\n",
    "\n",
    "df2=df.select(COLUMNS)\n",
    "df2.show()"
   ]
  },
  {
   "cell_type": "code",
   "execution_count": 9,
   "id": "033bf07d",
   "metadata": {},
   "outputs": [
    {
     "name": "stdout",
     "output_type": "stream",
     "text": [
      "root\n",
      " |-- Ventas: string (nullable = true)\n",
      " |-- Asesorías: string (nullable = true)\n",
      " |-- Participó en Eventos: string (nullable = true)\n",
      " |-- Tiene Muestras: string (nullable = true)\n",
      " |-- Tipo de Canal: string (nullable = true)\n",
      " |-- Tiempo de visitas en días: integer (nullable = true)\n",
      " |-- Lugar de Venta: string (nullable = true)\n",
      "\n"
     ]
    }
   ],
   "source": [
    "df2.printSchema()"
   ]
  },
  {
   "cell_type": "code",
   "execution_count": 10,
   "id": "6c6e5dd6",
   "metadata": {},
   "outputs": [
    {
     "name": "stdout",
     "output_type": "stream",
     "text": [
      "+-------+------+---------+--------------------+--------------+-------------+-------------------------+--------------+\n",
      "|summary|Ventas|Asesorías|Participó en Eventos|Tiene Muestras|Tipo de Canal|Tiempo de visitas en días|Lugar de Venta|\n",
      "+-------+------+---------+--------------------+--------------+-------------+-------------------------+--------------+\n",
      "|  count|   428|      428|                 428|           428|          428|                      428|           428|\n",
      "|   mean|  null|     null|                null|          null|         null|       13.460280373831775|          null|\n",
      "| stddev|  null|     null|                null|          null|         null|       19.480508769928413|          null|\n",
      "|    min|    NO|       NO|                  NO|            NO|      DIRECTO|                        0|          LIMA|\n",
      "|    max|    SI|       SI|                  SI|            SI|    INDIRECTO|                      150|    PROVINCIAS|\n",
      "+-------+------+---------+--------------------+--------------+-------------+-------------------------+--------------+\n",
      "\n"
     ]
    }
   ],
   "source": [
    "df2.describe().show()"
   ]
  },
  {
   "cell_type": "code",
   "execution_count": 11,
   "id": "fda370a8",
   "metadata": {},
   "outputs": [
    {
     "name": "stdout",
     "output_type": "stream",
     "text": [
      "+------+-----+\n",
      "|Ventas|count|\n",
      "+------+-----+\n",
      "|    SI|  408|\n",
      "|    NO|   20|\n",
      "+------+-----+\n",
      "\n"
     ]
    }
   ],
   "source": [
    "df2.groupBy(\"Ventas\").count().show()"
   ]
  },
  {
   "cell_type": "code",
   "execution_count": 12,
   "id": "b25cb5b1",
   "metadata": {},
   "outputs": [
    {
     "name": "stdout",
     "output_type": "stream",
     "text": [
      "+-------------------------+-----+\n",
      "|Tiempo de visitas en días|count|\n",
      "+-------------------------+-----+\n",
      "|                       31|    3|\n",
      "|                       53|    1|\n",
      "|                       34|    1|\n",
      "|                       28|    8|\n",
      "|                       27|    2|\n",
      "|                       26|    2|\n",
      "|                       44|    1|\n",
      "|                       12|    9|\n",
      "|                       22|    9|\n",
      "|                       47|    1|\n",
      "|                        1|   36|\n",
      "|                       52|    1|\n",
      "|                       13|   11|\n",
      "|                        6|   16|\n",
      "|                       16|    7|\n",
      "|                        3|   25|\n",
      "|                       20|    5|\n",
      "|                       40|    2|\n",
      "|                       94|    1|\n",
      "|                       54|    1|\n",
      "+-------------------------+-----+\n",
      "only showing top 20 rows\n",
      "\n"
     ]
    }
   ],
   "source": [
    "df2.groupBy(\"Tiempo de visitas en días\").count().show()"
   ]
  },
  {
   "cell_type": "code",
   "execution_count": 13,
   "id": "4c60c757",
   "metadata": {},
   "outputs": [
    {
     "data": {
      "text/plain": [
       "<AxesSubplot:xlabel='Ventas', ylabel='count'>"
      ]
     },
     "execution_count": 13,
     "metadata": {},
     "output_type": "execute_result"
    },
    {
     "data": {
      "image/png": "[encoded data removed]",
      "text/plain": [
       "<Figure size 432x288 with 1 Axes>"
      ]
     },
     "metadata": {},
     "output_type": "display_data"
    }
   ],
   "source": [
    "sns.set_style('whitegrid')\n",
    "sns.countplot(x='Ventas',data=df2.toPandas())"
   ]
  },
  {
   "cell_type": "code",
   "execution_count": 14,
   "id": "10ab0314",
   "metadata": {},
   "outputs": [
    {
     "data": {
      "text/plain": [
       "<AxesSubplot:xlabel='Ventas', ylabel='Tiempo de visitas en días'>"
      ]
     },
     "execution_count": 14,
     "metadata": {},
     "output_type": "execute_result"
    },
    {
     "data": {
      "image/png": "[encoded data removed]",
      "text/plain": [
       "<Figure size 864x504 with 1 Axes>"
      ]
     },
     "metadata": {},
     "output_type": "display_data"
    }
   ],
   "source": [
    "plt.figure(figsize=(12, 7))\n",
    "sns.boxplot(x='Ventas',y='Tiempo de visitas en días',data=df2.toPandas(),palette='winter')"
   ]
  },
  {
   "cell_type": "code",
   "execution_count": 15,
   "id": "7ed78e17",
   "metadata": {},
   "outputs": [
    {
     "name": "stdout",
     "output_type": "stream",
     "text": [
      "+--------------------------------+---+---+\n",
      "|Tiempo de visitas en días_Ventas| NO| SI|\n",
      "+--------------------------------+---+---+\n",
      "|                               0|  3| 51|\n",
      "|                               1|  3| 33|\n",
      "|                              10|  0| 10|\n",
      "|                              11|  0| 12|\n",
      "|                             114|  0|  1|\n",
      "|                             118|  0|  1|\n",
      "|                              12|  0|  9|\n",
      "|                             127|  0|  1|\n",
      "|                              13|  2|  9|\n",
      "|                             131|  0|  1|\n",
      "|                              14|  1|  6|\n",
      "|                              15|  0|  6|\n",
      "|                             150|  0|  1|\n",
      "|                              16|  1|  6|\n",
      "|                              17|  0|  6|\n",
      "|                              18|  1|  6|\n",
      "|                              19|  0|  3|\n",
      "|                               2|  2| 28|\n",
      "|                              20|  1|  4|\n",
      "|                              21|  0|  8|\n",
      "+--------------------------------+---+---+\n",
      "only showing top 20 rows\n",
      "\n"
     ]
    }
   ],
   "source": [
    "# Crosstab computation\n",
    "df2.crosstab('Tiempo de visitas en días', 'Ventas').sort(\"Tiempo de visitas en días_Ventas\").show()"
   ]
  },
  {
   "cell_type": "code",
   "execution_count": 16,
   "id": "3b814b43",
   "metadata": {},
   "outputs": [
    {
     "name": "stdout",
     "output_type": "stream",
     "text": [
      "+------+------------------------------+\n",
      "|Ventas|avg(Tiempo de visitas en días)|\n",
      "+------+------------------------------+\n",
      "|    SI|            13.676470588235293|\n",
      "|    NO|                          9.05|\n",
      "+------+------------------------------+\n",
      "\n"
     ]
    }
   ],
   "source": [
    "# Descriptive statistics by group\n",
    "df2.groupby('Ventas').agg({'Tiempo de visitas en días': 'mean'}).show()"
   ]
  },
  {
   "cell_type": "markdown",
   "id": "90a61197",
   "metadata": {},
   "source": [
    "# Step 2) Data preprocessing"
   ]
  },
  {
   "cell_type": "code",
   "execution_count": 17,
   "id": "541e79f6",
   "metadata": {},
   "outputs": [],
   "source": [
    "# la data está OK\n",
    "# Sólo falta el balaceo"
   ]
  },
  {
   "cell_type": "code",
   "execution_count": 18,
   "id": "a15bc708",
   "metadata": {},
   "outputs": [],
   "source": [
    "X = df2.toPandas().filter(items=['Asesorías', \n",
    "       'Participó en Eventos', 'Tiene Muestras', \n",
    "       'Tipo de Canal',\n",
    "       'Tiempo de visitas en días', 'Lugar de Venta'])\n",
    "y = df2.toPandas().filter(items=['Ventas'])\n",
    "y2=y\n",
    "X2=X"
   ]
  },
  {
   "cell_type": "code",
   "execution_count": 19,
   "id": "d3b2b815",
   "metadata": {},
   "outputs": [],
   "source": [
    "import numpy as np\n",
    "import pandas as pd"
   ]
  },
  {
   "cell_type": "code",
   "execution_count": 20,
   "id": "163754e7",
   "metadata": {},
   "outputs": [
    {
     "name": "stdout",
     "output_type": "stream",
     "text": [
      "TARGET unique:\n",
      " ['NO' 'SI']\n"
     ]
    },
    {
     "data": {
      "text/html": [
       "<div>\n",
       "<style scoped>\n",
       "    .dataframe tbody tr th:only-of-type {\n",
       "        vertical-align: middle;\n",
       "    }\n",
       "\n",
       "    .dataframe tbody tr th {\n",
       "        vertical-align: top;\n",
       "    }\n",
       "\n",
       "    .dataframe thead th {\n",
       "        text-align: right;\n",
       "    }\n",
       "</style>\n",
       "<table border=\"1\" class=\"dataframe\">\n",
       "  <thead>\n",
       "    <tr style=\"text-align: right;\">\n",
       "      <th></th>\n",
       "      <th>Ventas</th>\n",
       "      <th>ventas_i</th>\n",
       "    </tr>\n",
       "  </thead>\n",
       "  <tbody>\n",
       "    <tr>\n",
       "      <th>0</th>\n",
       "      <td>SI</td>\n",
       "      <td>1</td>\n",
       "    </tr>\n",
       "    <tr>\n",
       "      <th>1</th>\n",
       "      <td>SI</td>\n",
       "      <td>1</td>\n",
       "    </tr>\n",
       "    <tr>\n",
       "      <th>2</th>\n",
       "      <td>SI</td>\n",
       "      <td>1</td>\n",
       "    </tr>\n",
       "    <tr>\n",
       "      <th>3</th>\n",
       "      <td>SI</td>\n",
       "      <td>1</td>\n",
       "    </tr>\n",
       "    <tr>\n",
       "      <th>4</th>\n",
       "      <td>SI</td>\n",
       "      <td>1</td>\n",
       "    </tr>\n",
       "  </tbody>\n",
       "</table>\n",
       "</div>"
      ],
      "text/plain": [
       "  Ventas  ventas_i\n",
       "0     SI         1\n",
       "1     SI         1\n",
       "2     SI         1\n",
       "3     SI         1\n",
       "4     SI         1"
      ]
     },
     "execution_count": 20,
     "metadata": {},
     "output_type": "execute_result"
    }
   ],
   "source": [
    "print('TARGET unique:\\n', np.unique(y['Ventas']))\n",
    "var_ord_map = {'NO': 0, 'SI': 1}\n",
    "y2['ventas_i'] = y['Ventas'].map(var_ord_map)\n",
    "#y2=y2.drop(['Ventas'], axis = 1) \n",
    "y2.head()"
   ]
  },
  {
   "cell_type": "code",
   "execution_count": 21,
   "id": "349214a8",
   "metadata": {},
   "outputs": [
    {
     "data": {
      "text/html": [
       "<div>\n",
       "<style scoped>\n",
       "    .dataframe tbody tr th:only-of-type {\n",
       "        vertical-align: middle;\n",
       "    }\n",
       "\n",
       "    .dataframe tbody tr th {\n",
       "        vertical-align: top;\n",
       "    }\n",
       "\n",
       "    .dataframe thead th {\n",
       "        text-align: right;\n",
       "    }\n",
       "</style>\n",
       "<table border=\"1\" class=\"dataframe\">\n",
       "  <thead>\n",
       "    <tr style=\"text-align: right;\">\n",
       "      <th></th>\n",
       "      <th>ventas_i</th>\n",
       "    </tr>\n",
       "  </thead>\n",
       "  <tbody>\n",
       "    <tr>\n",
       "      <th>0</th>\n",
       "      <td>1</td>\n",
       "    </tr>\n",
       "    <tr>\n",
       "      <th>1</th>\n",
       "      <td>1</td>\n",
       "    </tr>\n",
       "    <tr>\n",
       "      <th>2</th>\n",
       "      <td>1</td>\n",
       "    </tr>\n",
       "    <tr>\n",
       "      <th>3</th>\n",
       "      <td>1</td>\n",
       "    </tr>\n",
       "    <tr>\n",
       "      <th>4</th>\n",
       "      <td>1</td>\n",
       "    </tr>\n",
       "  </tbody>\n",
       "</table>\n",
       "</div>"
      ],
      "text/plain": [
       "   ventas_i\n",
       "0         1\n",
       "1         1\n",
       "2         1\n",
       "3         1\n",
       "4         1"
      ]
     },
     "execution_count": 21,
     "metadata": {},
     "output_type": "execute_result"
    }
   ],
   "source": [
    "# selectecting cols numeric\n",
    "y_num=y2[['ventas_i']] \n",
    "y_num.head()"
   ]
  },
  {
   "cell_type": "code",
   "execution_count": 22,
   "id": "48444c24",
   "metadata": {},
   "outputs": [],
   "source": [
    "#Asesorías\tParticipó en Eventos\tTiene Muestras\tTipo de Canal\tLugar de Venta"
   ]
  },
  {
   "cell_type": "code",
   "execution_count": 23,
   "id": "e06a5b2f",
   "metadata": {},
   "outputs": [],
   "source": [
    "X2['Asesorías'].value_counts()\n",
    "categor_cols=['Tiempo de visitas en días']"
   ]
  },
  {
   "cell_type": "code",
   "execution_count": 24,
   "id": "525a7565",
   "metadata": {},
   "outputs": [
    {
     "data": {
      "text/html": [
       "<div>\n",
       "<style scoped>\n",
       "    .dataframe tbody tr th:only-of-type {\n",
       "        vertical-align: middle;\n",
       "    }\n",
       "\n",
       "    .dataframe tbody tr th {\n",
       "        vertical-align: top;\n",
       "    }\n",
       "\n",
       "    .dataframe thead th {\n",
       "        text-align: right;\n",
       "    }\n",
       "</style>\n",
       "<table border=\"1\" class=\"dataframe\">\n",
       "  <thead>\n",
       "    <tr style=\"text-align: right;\">\n",
       "      <th></th>\n",
       "      <th>Asesorías</th>\n",
       "      <th>Participó en Eventos</th>\n",
       "      <th>Tiene Muestras</th>\n",
       "      <th>Tipo de Canal</th>\n",
       "      <th>Tiempo de visitas en días</th>\n",
       "      <th>Lugar de Venta</th>\n",
       "      <th>asesorias_i</th>\n",
       "    </tr>\n",
       "  </thead>\n",
       "  <tbody>\n",
       "    <tr>\n",
       "      <th>0</th>\n",
       "      <td>NO</td>\n",
       "      <td>SI</td>\n",
       "      <td>SI</td>\n",
       "      <td>DIRECTO</td>\n",
       "      <td>18</td>\n",
       "      <td>LIMA</td>\n",
       "      <td>0</td>\n",
       "    </tr>\n",
       "    <tr>\n",
       "      <th>1</th>\n",
       "      <td>SI</td>\n",
       "      <td>SI</td>\n",
       "      <td>SI</td>\n",
       "      <td>INDIRECTO</td>\n",
       "      <td>30</td>\n",
       "      <td>PROVINCIAS</td>\n",
       "      <td>1</td>\n",
       "    </tr>\n",
       "    <tr>\n",
       "      <th>2</th>\n",
       "      <td>NO</td>\n",
       "      <td>SI</td>\n",
       "      <td>SI</td>\n",
       "      <td>INDIRECTO</td>\n",
       "      <td>11</td>\n",
       "      <td>PROVINCIAS</td>\n",
       "      <td>0</td>\n",
       "    </tr>\n",
       "    <tr>\n",
       "      <th>3</th>\n",
       "      <td>SI</td>\n",
       "      <td>SI</td>\n",
       "      <td>SI</td>\n",
       "      <td>DIRECTO</td>\n",
       "      <td>24</td>\n",
       "      <td>LIMA</td>\n",
       "      <td>1</td>\n",
       "    </tr>\n",
       "    <tr>\n",
       "      <th>4</th>\n",
       "      <td>SI</td>\n",
       "      <td>NO</td>\n",
       "      <td>SI</td>\n",
       "      <td>INDIRECTO</td>\n",
       "      <td>38</td>\n",
       "      <td>LIMA</td>\n",
       "      <td>1</td>\n",
       "    </tr>\n",
       "  </tbody>\n",
       "</table>\n",
       "</div>"
      ],
      "text/plain": [
       "  Asesorías Participó en Eventos Tiene Muestras Tipo de Canal  \\\n",
       "0        NO                   SI             SI       DIRECTO   \n",
       "1        SI                   SI             SI     INDIRECTO   \n",
       "2        NO                   SI             SI     INDIRECTO   \n",
       "3        SI                   SI             SI       DIRECTO   \n",
       "4        SI                   NO             SI     INDIRECTO   \n",
       "\n",
       "   Tiempo de visitas en días Lugar de Venta  asesorias_i  \n",
       "0                         18           LIMA            0  \n",
       "1                         30     PROVINCIAS            1  \n",
       "2                         11     PROVINCIAS            0  \n",
       "3                         24           LIMA            1  \n",
       "4                         38           LIMA            1  "
      ]
     },
     "execution_count": 24,
     "metadata": {},
     "output_type": "execute_result"
    }
   ],
   "source": [
    "x_order_maping = {'NO': 0, 'SI': 1}\n",
    "X2['asesorias_i'] = X2['Asesorías'].map(x_order_maping)\n",
    "categor_cols+=['asesorias_i']\n",
    "X2.head()"
   ]
  },
  {
   "cell_type": "code",
   "execution_count": 25,
   "id": "934cd537",
   "metadata": {},
   "outputs": [
    {
     "data": {
      "text/plain": [
       "SI    247\n",
       "NO    181\n",
       "Name: Participó en Eventos, dtype: int64"
      ]
     },
     "execution_count": 25,
     "metadata": {},
     "output_type": "execute_result"
    }
   ],
   "source": [
    "X2['Participó en Eventos'].value_counts()"
   ]
  },
  {
   "cell_type": "code",
   "execution_count": 26,
   "id": "717f3c87",
   "metadata": {},
   "outputs": [
    {
     "data": {
      "text/html": [
       "<div>\n",
       "<style scoped>\n",
       "    .dataframe tbody tr th:only-of-type {\n",
       "        vertical-align: middle;\n",
       "    }\n",
       "\n",
       "    .dataframe tbody tr th {\n",
       "        vertical-align: top;\n",
       "    }\n",
       "\n",
       "    .dataframe thead th {\n",
       "        text-align: right;\n",
       "    }\n",
       "</style>\n",
       "<table border=\"1\" class=\"dataframe\">\n",
       "  <thead>\n",
       "    <tr style=\"text-align: right;\">\n",
       "      <th></th>\n",
       "      <th>Asesorías</th>\n",
       "      <th>Participó en Eventos</th>\n",
       "      <th>Tiene Muestras</th>\n",
       "      <th>Tipo de Canal</th>\n",
       "      <th>Tiempo de visitas en días</th>\n",
       "      <th>Lugar de Venta</th>\n",
       "      <th>asesorias_i</th>\n",
       "      <th>parti_eventos_i</th>\n",
       "    </tr>\n",
       "  </thead>\n",
       "  <tbody>\n",
       "    <tr>\n",
       "      <th>0</th>\n",
       "      <td>NO</td>\n",
       "      <td>SI</td>\n",
       "      <td>SI</td>\n",
       "      <td>DIRECTO</td>\n",
       "      <td>18</td>\n",
       "      <td>LIMA</td>\n",
       "      <td>0</td>\n",
       "      <td>1</td>\n",
       "    </tr>\n",
       "    <tr>\n",
       "      <th>1</th>\n",
       "      <td>SI</td>\n",
       "      <td>SI</td>\n",
       "      <td>SI</td>\n",
       "      <td>INDIRECTO</td>\n",
       "      <td>30</td>\n",
       "      <td>PROVINCIAS</td>\n",
       "      <td>1</td>\n",
       "      <td>1</td>\n",
       "    </tr>\n",
       "    <tr>\n",
       "      <th>2</th>\n",
       "      <td>NO</td>\n",
       "      <td>SI</td>\n",
       "      <td>SI</td>\n",
       "      <td>INDIRECTO</td>\n",
       "      <td>11</td>\n",
       "      <td>PROVINCIAS</td>\n",
       "      <td>0</td>\n",
       "      <td>1</td>\n",
       "    </tr>\n",
       "    <tr>\n",
       "      <th>3</th>\n",
       "      <td>SI</td>\n",
       "      <td>SI</td>\n",
       "      <td>SI</td>\n",
       "      <td>DIRECTO</td>\n",
       "      <td>24</td>\n",
       "      <td>LIMA</td>\n",
       "      <td>1</td>\n",
       "      <td>1</td>\n",
       "    </tr>\n",
       "    <tr>\n",
       "      <th>4</th>\n",
       "      <td>SI</td>\n",
       "      <td>NO</td>\n",
       "      <td>SI</td>\n",
       "      <td>INDIRECTO</td>\n",
       "      <td>38</td>\n",
       "      <td>LIMA</td>\n",
       "      <td>1</td>\n",
       "      <td>0</td>\n",
       "    </tr>\n",
       "  </tbody>\n",
       "</table>\n",
       "</div>"
      ],
      "text/plain": [
       "  Asesorías Participó en Eventos Tiene Muestras Tipo de Canal  \\\n",
       "0        NO                   SI             SI       DIRECTO   \n",
       "1        SI                   SI             SI     INDIRECTO   \n",
       "2        NO                   SI             SI     INDIRECTO   \n",
       "3        SI                   SI             SI       DIRECTO   \n",
       "4        SI                   NO             SI     INDIRECTO   \n",
       "\n",
       "   Tiempo de visitas en días Lugar de Venta  asesorias_i  parti_eventos_i  \n",
       "0                         18           LIMA            0                1  \n",
       "1                         30     PROVINCIAS            1                1  \n",
       "2                         11     PROVINCIAS            0                1  \n",
       "3                         24           LIMA            1                1  \n",
       "4                         38           LIMA            1                0  "
      ]
     },
     "execution_count": 26,
     "metadata": {},
     "output_type": "execute_result"
    }
   ],
   "source": [
    "x_order_maping = {'NO': 0, 'SI': 1}\n",
    "X2['parti_eventos_i'] = X2['Participó en Eventos'].map(x_order_maping)\n",
    "categor_cols+=['parti_eventos_i']\n",
    "X2.head()"
   ]
  },
  {
   "cell_type": "code",
   "execution_count": 27,
   "id": "efca3074",
   "metadata": {},
   "outputs": [
    {
     "data": {
      "text/plain": [
       "SI    227\n",
       "NO    201\n",
       "Name: Tiene Muestras, dtype: int64"
      ]
     },
     "execution_count": 27,
     "metadata": {},
     "output_type": "execute_result"
    }
   ],
   "source": [
    "X2['Tiene Muestras'].value_counts()"
   ]
  },
  {
   "cell_type": "code",
   "execution_count": 28,
   "id": "5161afa4",
   "metadata": {},
   "outputs": [
    {
     "data": {
      "text/html": [
       "<div>\n",
       "<style scoped>\n",
       "    .dataframe tbody tr th:only-of-type {\n",
       "        vertical-align: middle;\n",
       "    }\n",
       "\n",
       "    .dataframe tbody tr th {\n",
       "        vertical-align: top;\n",
       "    }\n",
       "\n",
       "    .dataframe thead th {\n",
       "        text-align: right;\n",
       "    }\n",
       "</style>\n",
       "<table border=\"1\" class=\"dataframe\">\n",
       "  <thead>\n",
       "    <tr style=\"text-align: right;\">\n",
       "      <th></th>\n",
       "      <th>Asesorías</th>\n",
       "      <th>Participó en Eventos</th>\n",
       "      <th>Tiene Muestras</th>\n",
       "      <th>Tipo de Canal</th>\n",
       "      <th>Tiempo de visitas en días</th>\n",
       "      <th>Lugar de Venta</th>\n",
       "      <th>asesorias_i</th>\n",
       "      <th>parti_eventos_i</th>\n",
       "      <th>tiene_muestras_i</th>\n",
       "    </tr>\n",
       "  </thead>\n",
       "  <tbody>\n",
       "    <tr>\n",
       "      <th>0</th>\n",
       "      <td>NO</td>\n",
       "      <td>SI</td>\n",
       "      <td>SI</td>\n",
       "      <td>DIRECTO</td>\n",
       "      <td>18</td>\n",
       "      <td>LIMA</td>\n",
       "      <td>0</td>\n",
       "      <td>1</td>\n",
       "      <td>1</td>\n",
       "    </tr>\n",
       "    <tr>\n",
       "      <th>1</th>\n",
       "      <td>SI</td>\n",
       "      <td>SI</td>\n",
       "      <td>SI</td>\n",
       "      <td>INDIRECTO</td>\n",
       "      <td>30</td>\n",
       "      <td>PROVINCIAS</td>\n",
       "      <td>1</td>\n",
       "      <td>1</td>\n",
       "      <td>1</td>\n",
       "    </tr>\n",
       "    <tr>\n",
       "      <th>2</th>\n",
       "      <td>NO</td>\n",
       "      <td>SI</td>\n",
       "      <td>SI</td>\n",
       "      <td>INDIRECTO</td>\n",
       "      <td>11</td>\n",
       "      <td>PROVINCIAS</td>\n",
       "      <td>0</td>\n",
       "      <td>1</td>\n",
       "      <td>1</td>\n",
       "    </tr>\n",
       "    <tr>\n",
       "      <th>3</th>\n",
       "      <td>SI</td>\n",
       "      <td>SI</td>\n",
       "      <td>SI</td>\n",
       "      <td>DIRECTO</td>\n",
       "      <td>24</td>\n",
       "      <td>LIMA</td>\n",
       "      <td>1</td>\n",
       "      <td>1</td>\n",
       "      <td>1</td>\n",
       "    </tr>\n",
       "    <tr>\n",
       "      <th>4</th>\n",
       "      <td>SI</td>\n",
       "      <td>NO</td>\n",
       "      <td>SI</td>\n",
       "      <td>INDIRECTO</td>\n",
       "      <td>38</td>\n",
       "      <td>LIMA</td>\n",
       "      <td>1</td>\n",
       "      <td>0</td>\n",
       "      <td>1</td>\n",
       "    </tr>\n",
       "  </tbody>\n",
       "</table>\n",
       "</div>"
      ],
      "text/plain": [
       "  Asesorías Participó en Eventos Tiene Muestras Tipo de Canal  \\\n",
       "0        NO                   SI             SI       DIRECTO   \n",
       "1        SI                   SI             SI     INDIRECTO   \n",
       "2        NO                   SI             SI     INDIRECTO   \n",
       "3        SI                   SI             SI       DIRECTO   \n",
       "4        SI                   NO             SI     INDIRECTO   \n",
       "\n",
       "   Tiempo de visitas en días Lugar de Venta  asesorias_i  parti_eventos_i  \\\n",
       "0                         18           LIMA            0                1   \n",
       "1                         30     PROVINCIAS            1                1   \n",
       "2                         11     PROVINCIAS            0                1   \n",
       "3                         24           LIMA            1                1   \n",
       "4                         38           LIMA            1                0   \n",
       "\n",
       "   tiene_muestras_i  \n",
       "0                 1  \n",
       "1                 1  \n",
       "2                 1  \n",
       "3                 1  \n",
       "4                 1  "
      ]
     },
     "execution_count": 28,
     "metadata": {},
     "output_type": "execute_result"
    }
   ],
   "source": [
    "x_order_maping = {'NO': 0, 'SI': 1}\n",
    "X2['tiene_muestras_i'] = X2['Tiene Muestras'].map(x_order_maping)\n",
    "categor_cols+=['tiene_muestras_i']\n",
    "X2.head()"
   ]
  },
  {
   "cell_type": "code",
   "execution_count": 29,
   "id": "34281161",
   "metadata": {},
   "outputs": [
    {
     "data": {
      "text/plain": [
       "INDIRECTO    244\n",
       "DIRECTO      184\n",
       "Name: Tipo de Canal, dtype: int64"
      ]
     },
     "execution_count": 29,
     "metadata": {},
     "output_type": "execute_result"
    }
   ],
   "source": [
    "X2['Tipo de Canal'].value_counts()"
   ]
  },
  {
   "cell_type": "code",
   "execution_count": 30,
   "id": "f4464a10",
   "metadata": {},
   "outputs": [
    {
     "data": {
      "text/html": [
       "<div>\n",
       "<style scoped>\n",
       "    .dataframe tbody tr th:only-of-type {\n",
       "        vertical-align: middle;\n",
       "    }\n",
       "\n",
       "    .dataframe tbody tr th {\n",
       "        vertical-align: top;\n",
       "    }\n",
       "\n",
       "    .dataframe thead th {\n",
       "        text-align: right;\n",
       "    }\n",
       "</style>\n",
       "<table border=\"1\" class=\"dataframe\">\n",
       "  <thead>\n",
       "    <tr style=\"text-align: right;\">\n",
       "      <th></th>\n",
       "      <th>Asesorías</th>\n",
       "      <th>Participó en Eventos</th>\n",
       "      <th>Tiene Muestras</th>\n",
       "      <th>Tipo de Canal</th>\n",
       "      <th>Tiempo de visitas en días</th>\n",
       "      <th>Lugar de Venta</th>\n",
       "      <th>asesorias_i</th>\n",
       "      <th>parti_eventos_i</th>\n",
       "      <th>tiene_muestras_i</th>\n",
       "      <th>tipo_canal_i</th>\n",
       "    </tr>\n",
       "  </thead>\n",
       "  <tbody>\n",
       "    <tr>\n",
       "      <th>0</th>\n",
       "      <td>NO</td>\n",
       "      <td>SI</td>\n",
       "      <td>SI</td>\n",
       "      <td>DIRECTO</td>\n",
       "      <td>18</td>\n",
       "      <td>LIMA</td>\n",
       "      <td>0</td>\n",
       "      <td>1</td>\n",
       "      <td>1</td>\n",
       "      <td>1</td>\n",
       "    </tr>\n",
       "    <tr>\n",
       "      <th>1</th>\n",
       "      <td>SI</td>\n",
       "      <td>SI</td>\n",
       "      <td>SI</td>\n",
       "      <td>INDIRECTO</td>\n",
       "      <td>30</td>\n",
       "      <td>PROVINCIAS</td>\n",
       "      <td>1</td>\n",
       "      <td>1</td>\n",
       "      <td>1</td>\n",
       "      <td>0</td>\n",
       "    </tr>\n",
       "    <tr>\n",
       "      <th>2</th>\n",
       "      <td>NO</td>\n",
       "      <td>SI</td>\n",
       "      <td>SI</td>\n",
       "      <td>INDIRECTO</td>\n",
       "      <td>11</td>\n",
       "      <td>PROVINCIAS</td>\n",
       "      <td>0</td>\n",
       "      <td>1</td>\n",
       "      <td>1</td>\n",
       "      <td>0</td>\n",
       "    </tr>\n",
       "    <tr>\n",
       "      <th>3</th>\n",
       "      <td>SI</td>\n",
       "      <td>SI</td>\n",
       "      <td>SI</td>\n",
       "      <td>DIRECTO</td>\n",
       "      <td>24</td>\n",
       "      <td>LIMA</td>\n",
       "      <td>1</td>\n",
       "      <td>1</td>\n",
       "      <td>1</td>\n",
       "      <td>1</td>\n",
       "    </tr>\n",
       "    <tr>\n",
       "      <th>4</th>\n",
       "      <td>SI</td>\n",
       "      <td>NO</td>\n",
       "      <td>SI</td>\n",
       "      <td>INDIRECTO</td>\n",
       "      <td>38</td>\n",
       "      <td>LIMA</td>\n",
       "      <td>1</td>\n",
       "      <td>0</td>\n",
       "      <td>1</td>\n",
       "      <td>0</td>\n",
       "    </tr>\n",
       "  </tbody>\n",
       "</table>\n",
       "</div>"
      ],
      "text/plain": [
       "  Asesorías Participó en Eventos Tiene Muestras Tipo de Canal  \\\n",
       "0        NO                   SI             SI       DIRECTO   \n",
       "1        SI                   SI             SI     INDIRECTO   \n",
       "2        NO                   SI             SI     INDIRECTO   \n",
       "3        SI                   SI             SI       DIRECTO   \n",
       "4        SI                   NO             SI     INDIRECTO   \n",
       "\n",
       "   Tiempo de visitas en días Lugar de Venta  asesorias_i  parti_eventos_i  \\\n",
       "0                         18           LIMA            0                1   \n",
       "1                         30     PROVINCIAS            1                1   \n",
       "2                         11     PROVINCIAS            0                1   \n",
       "3                         24           LIMA            1                1   \n",
       "4                         38           LIMA            1                0   \n",
       "\n",
       "   tiene_muestras_i  tipo_canal_i  \n",
       "0                 1             1  \n",
       "1                 1             0  \n",
       "2                 1             0  \n",
       "3                 1             1  \n",
       "4                 1             0  "
      ]
     },
     "execution_count": 30,
     "metadata": {},
     "output_type": "execute_result"
    }
   ],
   "source": [
    "x_order_maping = {'INDIRECTO': 0, 'DIRECTO': 1}\n",
    "X2['tipo_canal_i'] = X2['Tipo de Canal'].map(x_order_maping)\n",
    "categor_cols+=['tipo_canal_i']\n",
    "X2.head()"
   ]
  },
  {
   "cell_type": "code",
   "execution_count": 31,
   "id": "1e66e125",
   "metadata": {},
   "outputs": [
    {
     "data": {
      "text/plain": [
       "LIMA          279\n",
       "PROVINCIAS    149\n",
       "Name: Lugar de Venta, dtype: int64"
      ]
     },
     "execution_count": 31,
     "metadata": {},
     "output_type": "execute_result"
    }
   ],
   "source": [
    "X2['Lugar de Venta'].value_counts()"
   ]
  },
  {
   "cell_type": "code",
   "execution_count": 32,
   "id": "701509a6",
   "metadata": {},
   "outputs": [
    {
     "data": {
      "text/html": [
       "<div>\n",
       "<style scoped>\n",
       "    .dataframe tbody tr th:only-of-type {\n",
       "        vertical-align: middle;\n",
       "    }\n",
       "\n",
       "    .dataframe tbody tr th {\n",
       "        vertical-align: top;\n",
       "    }\n",
       "\n",
       "    .dataframe thead th {\n",
       "        text-align: right;\n",
       "    }\n",
       "</style>\n",
       "<table border=\"1\" class=\"dataframe\">\n",
       "  <thead>\n",
       "    <tr style=\"text-align: right;\">\n",
       "      <th></th>\n",
       "      <th>Asesorías</th>\n",
       "      <th>Participó en Eventos</th>\n",
       "      <th>Tiene Muestras</th>\n",
       "      <th>Tipo de Canal</th>\n",
       "      <th>Tiempo de visitas en días</th>\n",
       "      <th>Lugar de Venta</th>\n",
       "      <th>asesorias_i</th>\n",
       "      <th>parti_eventos_i</th>\n",
       "      <th>tiene_muestras_i</th>\n",
       "      <th>tipo_canal_i</th>\n",
       "      <th>lugar_venta_i</th>\n",
       "    </tr>\n",
       "  </thead>\n",
       "  <tbody>\n",
       "    <tr>\n",
       "      <th>0</th>\n",
       "      <td>NO</td>\n",
       "      <td>SI</td>\n",
       "      <td>SI</td>\n",
       "      <td>DIRECTO</td>\n",
       "      <td>18</td>\n",
       "      <td>LIMA</td>\n",
       "      <td>0</td>\n",
       "      <td>1</td>\n",
       "      <td>1</td>\n",
       "      <td>1</td>\n",
       "      <td>0</td>\n",
       "    </tr>\n",
       "    <tr>\n",
       "      <th>1</th>\n",
       "      <td>SI</td>\n",
       "      <td>SI</td>\n",
       "      <td>SI</td>\n",
       "      <td>INDIRECTO</td>\n",
       "      <td>30</td>\n",
       "      <td>PROVINCIAS</td>\n",
       "      <td>1</td>\n",
       "      <td>1</td>\n",
       "      <td>1</td>\n",
       "      <td>0</td>\n",
       "      <td>1</td>\n",
       "    </tr>\n",
       "    <tr>\n",
       "      <th>2</th>\n",
       "      <td>NO</td>\n",
       "      <td>SI</td>\n",
       "      <td>SI</td>\n",
       "      <td>INDIRECTO</td>\n",
       "      <td>11</td>\n",
       "      <td>PROVINCIAS</td>\n",
       "      <td>0</td>\n",
       "      <td>1</td>\n",
       "      <td>1</td>\n",
       "      <td>0</td>\n",
       "      <td>1</td>\n",
       "    </tr>\n",
       "    <tr>\n",
       "      <th>3</th>\n",
       "      <td>SI</td>\n",
       "      <td>SI</td>\n",
       "      <td>SI</td>\n",
       "      <td>DIRECTO</td>\n",
       "      <td>24</td>\n",
       "      <td>LIMA</td>\n",
       "      <td>1</td>\n",
       "      <td>1</td>\n",
       "      <td>1</td>\n",
       "      <td>1</td>\n",
       "      <td>0</td>\n",
       "    </tr>\n",
       "    <tr>\n",
       "      <th>4</th>\n",
       "      <td>SI</td>\n",
       "      <td>NO</td>\n",
       "      <td>SI</td>\n",
       "      <td>INDIRECTO</td>\n",
       "      <td>38</td>\n",
       "      <td>LIMA</td>\n",
       "      <td>1</td>\n",
       "      <td>0</td>\n",
       "      <td>1</td>\n",
       "      <td>0</td>\n",
       "      <td>0</td>\n",
       "    </tr>\n",
       "  </tbody>\n",
       "</table>\n",
       "</div>"
      ],
      "text/plain": [
       "  Asesorías Participó en Eventos Tiene Muestras Tipo de Canal  \\\n",
       "0        NO                   SI             SI       DIRECTO   \n",
       "1        SI                   SI             SI     INDIRECTO   \n",
       "2        NO                   SI             SI     INDIRECTO   \n",
       "3        SI                   SI             SI       DIRECTO   \n",
       "4        SI                   NO             SI     INDIRECTO   \n",
       "\n",
       "   Tiempo de visitas en días Lugar de Venta  asesorias_i  parti_eventos_i  \\\n",
       "0                         18           LIMA            0                1   \n",
       "1                         30     PROVINCIAS            1                1   \n",
       "2                         11     PROVINCIAS            0                1   \n",
       "3                         24           LIMA            1                1   \n",
       "4                         38           LIMA            1                0   \n",
       "\n",
       "   tiene_muestras_i  tipo_canal_i  lugar_venta_i  \n",
       "0                 1             1              0  \n",
       "1                 1             0              1  \n",
       "2                 1             0              1  \n",
       "3                 1             1              0  \n",
       "4                 1             0              0  "
      ]
     },
     "execution_count": 32,
     "metadata": {},
     "output_type": "execute_result"
    }
   ],
   "source": [
    "x_order_maping = {'LIMA': 0, 'PROVINCIAS': 1}\n",
    "X2['lugar_venta_i'] = X2['Lugar de Venta'].map(x_order_maping)\n",
    "categor_cols+=['lugar_venta_i']\n",
    "X2.head()"
   ]
  },
  {
   "cell_type": "code",
   "execution_count": 33,
   "id": "d7fd27e0",
   "metadata": {},
   "outputs": [
    {
     "data": {
      "text/plain": [
       "{'Tiempo de visitas en días',\n",
       " 'asesorias_i',\n",
       " 'lugar_venta_i',\n",
       " 'parti_eventos_i',\n",
       " 'tiene_muestras_i',\n",
       " 'tipo_canal_i'}"
      ]
     },
     "execution_count": 33,
     "metadata": {},
     "output_type": "execute_result"
    }
   ],
   "source": [
    "categor_cols=set(categor_cols) # quitar duplicados\n",
    "categor_cols"
   ]
  },
  {
   "cell_type": "code",
   "execution_count": 34,
   "id": "816e04bc",
   "metadata": {},
   "outputs": [
    {
     "data": {
      "text/html": [
       "<div>\n",
       "<style scoped>\n",
       "    .dataframe tbody tr th:only-of-type {\n",
       "        vertical-align: middle;\n",
       "    }\n",
       "\n",
       "    .dataframe tbody tr th {\n",
       "        vertical-align: top;\n",
       "    }\n",
       "\n",
       "    .dataframe thead th {\n",
       "        text-align: right;\n",
       "    }\n",
       "</style>\n",
       "<table border=\"1\" class=\"dataframe\">\n",
       "  <thead>\n",
       "    <tr style=\"text-align: right;\">\n",
       "      <th></th>\n",
       "      <th>tiene_muestras_i</th>\n",
       "      <th>parti_eventos_i</th>\n",
       "      <th>tipo_canal_i</th>\n",
       "      <th>asesorias_i</th>\n",
       "      <th>lugar_venta_i</th>\n",
       "      <th>Tiempo de visitas en días</th>\n",
       "    </tr>\n",
       "  </thead>\n",
       "  <tbody>\n",
       "    <tr>\n",
       "      <th>0</th>\n",
       "      <td>1</td>\n",
       "      <td>1</td>\n",
       "      <td>1</td>\n",
       "      <td>0</td>\n",
       "      <td>0</td>\n",
       "      <td>18</td>\n",
       "    </tr>\n",
       "    <tr>\n",
       "      <th>1</th>\n",
       "      <td>1</td>\n",
       "      <td>1</td>\n",
       "      <td>0</td>\n",
       "      <td>1</td>\n",
       "      <td>1</td>\n",
       "      <td>30</td>\n",
       "    </tr>\n",
       "    <tr>\n",
       "      <th>2</th>\n",
       "      <td>1</td>\n",
       "      <td>1</td>\n",
       "      <td>0</td>\n",
       "      <td>0</td>\n",
       "      <td>1</td>\n",
       "      <td>11</td>\n",
       "    </tr>\n",
       "    <tr>\n",
       "      <th>3</th>\n",
       "      <td>1</td>\n",
       "      <td>1</td>\n",
       "      <td>1</td>\n",
       "      <td>1</td>\n",
       "      <td>0</td>\n",
       "      <td>24</td>\n",
       "    </tr>\n",
       "    <tr>\n",
       "      <th>4</th>\n",
       "      <td>1</td>\n",
       "      <td>0</td>\n",
       "      <td>0</td>\n",
       "      <td>1</td>\n",
       "      <td>0</td>\n",
       "      <td>38</td>\n",
       "    </tr>\n",
       "    <tr>\n",
       "      <th>...</th>\n",
       "      <td>...</td>\n",
       "      <td>...</td>\n",
       "      <td>...</td>\n",
       "      <td>...</td>\n",
       "      <td>...</td>\n",
       "      <td>...</td>\n",
       "    </tr>\n",
       "    <tr>\n",
       "      <th>423</th>\n",
       "      <td>1</td>\n",
       "      <td>0</td>\n",
       "      <td>1</td>\n",
       "      <td>0</td>\n",
       "      <td>1</td>\n",
       "      <td>1</td>\n",
       "    </tr>\n",
       "    <tr>\n",
       "      <th>424</th>\n",
       "      <td>0</td>\n",
       "      <td>0</td>\n",
       "      <td>0</td>\n",
       "      <td>0</td>\n",
       "      <td>1</td>\n",
       "      <td>0</td>\n",
       "    </tr>\n",
       "    <tr>\n",
       "      <th>425</th>\n",
       "      <td>0</td>\n",
       "      <td>0</td>\n",
       "      <td>1</td>\n",
       "      <td>0</td>\n",
       "      <td>0</td>\n",
       "      <td>7</td>\n",
       "    </tr>\n",
       "    <tr>\n",
       "      <th>426</th>\n",
       "      <td>0</td>\n",
       "      <td>0</td>\n",
       "      <td>1</td>\n",
       "      <td>0</td>\n",
       "      <td>1</td>\n",
       "      <td>4</td>\n",
       "    </tr>\n",
       "    <tr>\n",
       "      <th>427</th>\n",
       "      <td>0</td>\n",
       "      <td>0</td>\n",
       "      <td>1</td>\n",
       "      <td>0</td>\n",
       "      <td>1</td>\n",
       "      <td>0</td>\n",
       "    </tr>\n",
       "  </tbody>\n",
       "</table>\n",
       "<p>428 rows × 6 columns</p>\n",
       "</div>"
      ],
      "text/plain": [
       "     tiene_muestras_i  parti_eventos_i  tipo_canal_i  asesorias_i  \\\n",
       "0                   1                1             1            0   \n",
       "1                   1                1             0            1   \n",
       "2                   1                1             0            0   \n",
       "3                   1                1             1            1   \n",
       "4                   1                0             0            1   \n",
       "..                ...              ...           ...          ...   \n",
       "423                 1                0             1            0   \n",
       "424                 0                0             0            0   \n",
       "425                 0                0             1            0   \n",
       "426                 0                0             1            0   \n",
       "427                 0                0             1            0   \n",
       "\n",
       "     lugar_venta_i  Tiempo de visitas en días  \n",
       "0                0                         18  \n",
       "1                1                         30  \n",
       "2                1                         11  \n",
       "3                0                         24  \n",
       "4                0                         38  \n",
       "..             ...                        ...  \n",
       "423              1                          1  \n",
       "424              1                          0  \n",
       "425              0                          7  \n",
       "426              1                          4  \n",
       "427              1                          0  \n",
       "\n",
       "[428 rows x 6 columns]"
      ]
     },
     "execution_count": 34,
     "metadata": {},
     "output_type": "execute_result"
    }
   ],
   "source": [
    "# selectecting cols numeric\n",
    "X_num=X2[categor_cols] \n",
    "X_num"
   ]
  },
  {
   "cell_type": "code",
   "execution_count": 39,
   "id": "35776e28",
   "metadata": {},
   "outputs": [
    {
     "name": "stdout",
     "output_type": "stream",
     "text": [
      "Requirement already satisfied: imbalanced-learn in /opt/conda/lib/python3.9/site-packages (0.8.1)\r\n",
      "Requirement already satisfied: joblib>=0.11 in /opt/conda/lib/python3.9/site-packages (from imbalanced-learn) (1.1.0)\r\n",
      "Requirement already satisfied: numpy>=1.13.3 in /opt/conda/lib/python3.9/site-packages (from imbalanced-learn) (1.20.3)\r\n",
      "Requirement already satisfied: scikit-learn>=0.24 in /opt/conda/lib/python3.9/site-packages (from imbalanced-learn) (1.0.1)\r\n",
      "Requirement already satisfied: scipy>=0.19.1 in /opt/conda/lib/python3.9/site-packages (from imbalanced-learn) (1.7.2)\r\n",
      "Requirement already satisfied: threadpoolctl>=2.0.0 in /opt/conda/lib/python3.9/site-packages (from scikit-learn>=0.24->imbalanced-learn) (3.0.0)\r\n"
     ]
    }
   ],
   "source": [
    "!pip install imbalanced-learn"
   ]
  },
  {
   "cell_type": "code",
   "execution_count": 37,
   "id": "405cf82b",
   "metadata": {},
   "outputs": [],
   "source": [
    "from imblearn.over_sampling import SMOTE\n",
    "sm = SMOTE(random_state=12)"
   ]
  },
  {
   "cell_type": "code",
   "execution_count": 40,
   "id": "39cb1f66",
   "metadata": {},
   "outputs": [],
   "source": [
    "X_smote_num, y_smote_num = sm.fit_resample(X_num, y_num)"
   ]
  },
  {
   "cell_type": "code",
   "execution_count": 41,
   "id": "b53c03e7",
   "metadata": {},
   "outputs": [
    {
     "data": {
      "text/plain": [
       "1    408\n",
       "0    408\n",
       "Name: ventas_i, dtype: int64"
      ]
     },
     "execution_count": 41,
     "metadata": {},
     "output_type": "execute_result"
    }
   ],
   "source": [
    "data_smotetomek = pd.concat([X_smote_num, y_smote_num], axis=1)\n",
    "pd.value_counts(data_smotetomek['ventas_i'], sort = True) "
   ]
  },
  {
   "cell_type": "code",
   "execution_count": 42,
   "id": "8323a7a0",
   "metadata": {},
   "outputs": [],
   "source": [
    "y_smotex = y_smote_num"
   ]
  },
  {
   "cell_type": "code",
   "execution_count": 43,
   "id": "cd3ff218",
   "metadata": {},
   "outputs": [
    {
     "data": {
      "text/html": [
       "<div>\n",
       "<style scoped>\n",
       "    .dataframe tbody tr th:only-of-type {\n",
       "        vertical-align: middle;\n",
       "    }\n",
       "\n",
       "    .dataframe tbody tr th {\n",
       "        vertical-align: top;\n",
       "    }\n",
       "\n",
       "    .dataframe thead th {\n",
       "        text-align: right;\n",
       "    }\n",
       "</style>\n",
       "<table border=\"1\" class=\"dataframe\">\n",
       "  <thead>\n",
       "    <tr style=\"text-align: right;\">\n",
       "      <th></th>\n",
       "      <th>ventas_i</th>\n",
       "      <th>Ventas</th>\n",
       "    </tr>\n",
       "  </thead>\n",
       "  <tbody>\n",
       "    <tr>\n",
       "      <th>0</th>\n",
       "      <td>1</td>\n",
       "      <td>SI</td>\n",
       "    </tr>\n",
       "    <tr>\n",
       "      <th>1</th>\n",
       "      <td>1</td>\n",
       "      <td>SI</td>\n",
       "    </tr>\n",
       "    <tr>\n",
       "      <th>2</th>\n",
       "      <td>1</td>\n",
       "      <td>SI</td>\n",
       "    </tr>\n",
       "    <tr>\n",
       "      <th>3</th>\n",
       "      <td>1</td>\n",
       "      <td>SI</td>\n",
       "    </tr>\n",
       "    <tr>\n",
       "      <th>4</th>\n",
       "      <td>1</td>\n",
       "      <td>SI</td>\n",
       "    </tr>\n",
       "  </tbody>\n",
       "</table>\n",
       "</div>"
      ],
      "text/plain": [
       "   ventas_i Ventas\n",
       "0         1     SI\n",
       "1         1     SI\n",
       "2         1     SI\n",
       "3         1     SI\n",
       "4         1     SI"
      ]
     },
     "execution_count": 43,
     "metadata": {},
     "output_type": "execute_result"
    }
   ],
   "source": [
    "var_ord_map = {0:'NO', 1:'SI'}\n",
    "y_smotex['Ventas'] = y_smote_num['ventas_i'].map(var_ord_map)\n",
    "#y2=y2.drop(['Ventas'], axis = 1) \n",
    "y_smotex.head()"
   ]
  },
  {
   "cell_type": "code",
   "execution_count": 44,
   "id": "036c2e2e",
   "metadata": {},
   "outputs": [
    {
     "data": {
      "text/html": [
       "<div>\n",
       "<style scoped>\n",
       "    .dataframe tbody tr th:only-of-type {\n",
       "        vertical-align: middle;\n",
       "    }\n",
       "\n",
       "    .dataframe tbody tr th {\n",
       "        vertical-align: top;\n",
       "    }\n",
       "\n",
       "    .dataframe thead th {\n",
       "        text-align: right;\n",
       "    }\n",
       "</style>\n",
       "<table border=\"1\" class=\"dataframe\">\n",
       "  <thead>\n",
       "    <tr style=\"text-align: right;\">\n",
       "      <th></th>\n",
       "      <th>Ventas</th>\n",
       "    </tr>\n",
       "  </thead>\n",
       "  <tbody>\n",
       "    <tr>\n",
       "      <th>0</th>\n",
       "      <td>SI</td>\n",
       "    </tr>\n",
       "    <tr>\n",
       "      <th>1</th>\n",
       "      <td>SI</td>\n",
       "    </tr>\n",
       "    <tr>\n",
       "      <th>2</th>\n",
       "      <td>SI</td>\n",
       "    </tr>\n",
       "    <tr>\n",
       "      <th>3</th>\n",
       "      <td>SI</td>\n",
       "    </tr>\n",
       "    <tr>\n",
       "      <th>4</th>\n",
       "      <td>SI</td>\n",
       "    </tr>\n",
       "  </tbody>\n",
       "</table>\n",
       "</div>"
      ],
      "text/plain": [
       "  Ventas\n",
       "0     SI\n",
       "1     SI\n",
       "2     SI\n",
       "3     SI\n",
       "4     SI"
      ]
     },
     "execution_count": 44,
     "metadata": {},
     "output_type": "execute_result"
    }
   ],
   "source": [
    "# selectecting cols numeric\n",
    "y_smote=y_smotex[['Ventas']] \n",
    "y_smote.head()"
   ]
  },
  {
   "cell_type": "code",
   "execution_count": 45,
   "id": "f901226b",
   "metadata": {},
   "outputs": [
    {
     "data": {
      "text/plain": [
       "SI    408\n",
       "NO    408\n",
       "Name: Ventas, dtype: int64"
      ]
     },
     "execution_count": 45,
     "metadata": {},
     "output_type": "execute_result"
    }
   ],
   "source": [
    "y_smote['Ventas'].value_counts()"
   ]
  },
  {
   "cell_type": "code",
   "execution_count": 46,
   "id": "261c31ff",
   "metadata": {},
   "outputs": [],
   "source": [
    "X_smotex=X_smote_num\n",
    "categor_cols=['Tiempo de visitas en días']"
   ]
  },
  {
   "cell_type": "code",
   "execution_count": 47,
   "id": "a89f0516",
   "metadata": {},
   "outputs": [
    {
     "data": {
      "text/html": [
       "<div>\n",
       "<style scoped>\n",
       "    .dataframe tbody tr th:only-of-type {\n",
       "        vertical-align: middle;\n",
       "    }\n",
       "\n",
       "    .dataframe tbody tr th {\n",
       "        vertical-align: top;\n",
       "    }\n",
       "\n",
       "    .dataframe thead th {\n",
       "        text-align: right;\n",
       "    }\n",
       "</style>\n",
       "<table border=\"1\" class=\"dataframe\">\n",
       "  <thead>\n",
       "    <tr style=\"text-align: right;\">\n",
       "      <th></th>\n",
       "      <th>tiene_muestras_i</th>\n",
       "      <th>parti_eventos_i</th>\n",
       "      <th>tipo_canal_i</th>\n",
       "      <th>asesorias_i</th>\n",
       "      <th>lugar_venta_i</th>\n",
       "      <th>Tiempo de visitas en días</th>\n",
       "      <th>Lugar de Venta</th>\n",
       "    </tr>\n",
       "  </thead>\n",
       "  <tbody>\n",
       "    <tr>\n",
       "      <th>0</th>\n",
       "      <td>1</td>\n",
       "      <td>1</td>\n",
       "      <td>1</td>\n",
       "      <td>0</td>\n",
       "      <td>0</td>\n",
       "      <td>18</td>\n",
       "      <td>LIMA</td>\n",
       "    </tr>\n",
       "    <tr>\n",
       "      <th>1</th>\n",
       "      <td>1</td>\n",
       "      <td>1</td>\n",
       "      <td>0</td>\n",
       "      <td>1</td>\n",
       "      <td>1</td>\n",
       "      <td>30</td>\n",
       "      <td>PROVINCIAS</td>\n",
       "    </tr>\n",
       "    <tr>\n",
       "      <th>2</th>\n",
       "      <td>1</td>\n",
       "      <td>1</td>\n",
       "      <td>0</td>\n",
       "      <td>0</td>\n",
       "      <td>1</td>\n",
       "      <td>11</td>\n",
       "      <td>PROVINCIAS</td>\n",
       "    </tr>\n",
       "    <tr>\n",
       "      <th>3</th>\n",
       "      <td>1</td>\n",
       "      <td>1</td>\n",
       "      <td>1</td>\n",
       "      <td>1</td>\n",
       "      <td>0</td>\n",
       "      <td>24</td>\n",
       "      <td>LIMA</td>\n",
       "    </tr>\n",
       "    <tr>\n",
       "      <th>4</th>\n",
       "      <td>1</td>\n",
       "      <td>0</td>\n",
       "      <td>0</td>\n",
       "      <td>1</td>\n",
       "      <td>0</td>\n",
       "      <td>38</td>\n",
       "      <td>LIMA</td>\n",
       "    </tr>\n",
       "  </tbody>\n",
       "</table>\n",
       "</div>"
      ],
      "text/plain": [
       "   tiene_muestras_i  parti_eventos_i  tipo_canal_i  asesorias_i  \\\n",
       "0                 1                1             1            0   \n",
       "1                 1                1             0            1   \n",
       "2                 1                1             0            0   \n",
       "3                 1                1             1            1   \n",
       "4                 1                0             0            1   \n",
       "\n",
       "   lugar_venta_i  Tiempo de visitas en días Lugar de Venta  \n",
       "0              0                         18           LIMA  \n",
       "1              1                         30     PROVINCIAS  \n",
       "2              1                         11     PROVINCIAS  \n",
       "3              0                         24           LIMA  \n",
       "4              0                         38           LIMA  "
      ]
     },
     "execution_count": 47,
     "metadata": {},
     "output_type": "execute_result"
    }
   ],
   "source": [
    "x_order_maping = {0:'LIMA', 1:'PROVINCIAS'}\n",
    "X_smotex['Lugar de Venta'] = X_smote_num['lugar_venta_i'].map(x_order_maping)\n",
    "categor_cols+=['Lugar de Venta']\n",
    "X_smotex.head()"
   ]
  },
  {
   "cell_type": "code",
   "execution_count": 48,
   "id": "81b8625b",
   "metadata": {},
   "outputs": [
    {
     "data": {
      "text/html": [
       "<div>\n",
       "<style scoped>\n",
       "    .dataframe tbody tr th:only-of-type {\n",
       "        vertical-align: middle;\n",
       "    }\n",
       "\n",
       "    .dataframe tbody tr th {\n",
       "        vertical-align: top;\n",
       "    }\n",
       "\n",
       "    .dataframe thead th {\n",
       "        text-align: right;\n",
       "    }\n",
       "</style>\n",
       "<table border=\"1\" class=\"dataframe\">\n",
       "  <thead>\n",
       "    <tr style=\"text-align: right;\">\n",
       "      <th></th>\n",
       "      <th>tiene_muestras_i</th>\n",
       "      <th>parti_eventos_i</th>\n",
       "      <th>tipo_canal_i</th>\n",
       "      <th>asesorias_i</th>\n",
       "      <th>lugar_venta_i</th>\n",
       "      <th>Tiempo de visitas en días</th>\n",
       "      <th>Lugar de Venta</th>\n",
       "      <th>Tipo de Canal</th>\n",
       "    </tr>\n",
       "  </thead>\n",
       "  <tbody>\n",
       "    <tr>\n",
       "      <th>0</th>\n",
       "      <td>1</td>\n",
       "      <td>1</td>\n",
       "      <td>1</td>\n",
       "      <td>0</td>\n",
       "      <td>0</td>\n",
       "      <td>18</td>\n",
       "      <td>LIMA</td>\n",
       "      <td>DIRECTO</td>\n",
       "    </tr>\n",
       "    <tr>\n",
       "      <th>1</th>\n",
       "      <td>1</td>\n",
       "      <td>1</td>\n",
       "      <td>0</td>\n",
       "      <td>1</td>\n",
       "      <td>1</td>\n",
       "      <td>30</td>\n",
       "      <td>PROVINCIAS</td>\n",
       "      <td>INDIRECTO</td>\n",
       "    </tr>\n",
       "    <tr>\n",
       "      <th>2</th>\n",
       "      <td>1</td>\n",
       "      <td>1</td>\n",
       "      <td>0</td>\n",
       "      <td>0</td>\n",
       "      <td>1</td>\n",
       "      <td>11</td>\n",
       "      <td>PROVINCIAS</td>\n",
       "      <td>INDIRECTO</td>\n",
       "    </tr>\n",
       "    <tr>\n",
       "      <th>3</th>\n",
       "      <td>1</td>\n",
       "      <td>1</td>\n",
       "      <td>1</td>\n",
       "      <td>1</td>\n",
       "      <td>0</td>\n",
       "      <td>24</td>\n",
       "      <td>LIMA</td>\n",
       "      <td>DIRECTO</td>\n",
       "    </tr>\n",
       "    <tr>\n",
       "      <th>4</th>\n",
       "      <td>1</td>\n",
       "      <td>0</td>\n",
       "      <td>0</td>\n",
       "      <td>1</td>\n",
       "      <td>0</td>\n",
       "      <td>38</td>\n",
       "      <td>LIMA</td>\n",
       "      <td>INDIRECTO</td>\n",
       "    </tr>\n",
       "  </tbody>\n",
       "</table>\n",
       "</div>"
      ],
      "text/plain": [
       "   tiene_muestras_i  parti_eventos_i  tipo_canal_i  asesorias_i  \\\n",
       "0                 1                1             1            0   \n",
       "1                 1                1             0            1   \n",
       "2                 1                1             0            0   \n",
       "3                 1                1             1            1   \n",
       "4                 1                0             0            1   \n",
       "\n",
       "   lugar_venta_i  Tiempo de visitas en días Lugar de Venta Tipo de Canal  \n",
       "0              0                         18           LIMA       DIRECTO  \n",
       "1              1                         30     PROVINCIAS     INDIRECTO  \n",
       "2              1                         11     PROVINCIAS     INDIRECTO  \n",
       "3              0                         24           LIMA       DIRECTO  \n",
       "4              0                         38           LIMA     INDIRECTO  "
      ]
     },
     "execution_count": 48,
     "metadata": {},
     "output_type": "execute_result"
    }
   ],
   "source": [
    "x_order_maping = {0:'INDIRECTO', 1:'DIRECTO'}\n",
    "X_smotex['Tipo de Canal'] = X_smote_num['tipo_canal_i'].map(x_order_maping)\n",
    "categor_cols+=['Tipo de Canal']\n",
    "X_smotex.head()"
   ]
  },
  {
   "cell_type": "code",
   "execution_count": 49,
   "id": "5647af60",
   "metadata": {},
   "outputs": [
    {
     "data": {
      "text/html": [
       "<div>\n",
       "<style scoped>\n",
       "    .dataframe tbody tr th:only-of-type {\n",
       "        vertical-align: middle;\n",
       "    }\n",
       "\n",
       "    .dataframe tbody tr th {\n",
       "        vertical-align: top;\n",
       "    }\n",
       "\n",
       "    .dataframe thead th {\n",
       "        text-align: right;\n",
       "    }\n",
       "</style>\n",
       "<table border=\"1\" class=\"dataframe\">\n",
       "  <thead>\n",
       "    <tr style=\"text-align: right;\">\n",
       "      <th></th>\n",
       "      <th>tiene_muestras_i</th>\n",
       "      <th>parti_eventos_i</th>\n",
       "      <th>tipo_canal_i</th>\n",
       "      <th>asesorias_i</th>\n",
       "      <th>lugar_venta_i</th>\n",
       "      <th>Tiempo de visitas en días</th>\n",
       "      <th>Lugar de Venta</th>\n",
       "      <th>Tipo de Canal</th>\n",
       "      <th>Tiene Muestras</th>\n",
       "    </tr>\n",
       "  </thead>\n",
       "  <tbody>\n",
       "    <tr>\n",
       "      <th>0</th>\n",
       "      <td>1</td>\n",
       "      <td>1</td>\n",
       "      <td>1</td>\n",
       "      <td>0</td>\n",
       "      <td>0</td>\n",
       "      <td>18</td>\n",
       "      <td>LIMA</td>\n",
       "      <td>DIRECTO</td>\n",
       "      <td>SI</td>\n",
       "    </tr>\n",
       "    <tr>\n",
       "      <th>1</th>\n",
       "      <td>1</td>\n",
       "      <td>1</td>\n",
       "      <td>0</td>\n",
       "      <td>1</td>\n",
       "      <td>1</td>\n",
       "      <td>30</td>\n",
       "      <td>PROVINCIAS</td>\n",
       "      <td>INDIRECTO</td>\n",
       "      <td>SI</td>\n",
       "    </tr>\n",
       "    <tr>\n",
       "      <th>2</th>\n",
       "      <td>1</td>\n",
       "      <td>1</td>\n",
       "      <td>0</td>\n",
       "      <td>0</td>\n",
       "      <td>1</td>\n",
       "      <td>11</td>\n",
       "      <td>PROVINCIAS</td>\n",
       "      <td>INDIRECTO</td>\n",
       "      <td>SI</td>\n",
       "    </tr>\n",
       "    <tr>\n",
       "      <th>3</th>\n",
       "      <td>1</td>\n",
       "      <td>1</td>\n",
       "      <td>1</td>\n",
       "      <td>1</td>\n",
       "      <td>0</td>\n",
       "      <td>24</td>\n",
       "      <td>LIMA</td>\n",
       "      <td>DIRECTO</td>\n",
       "      <td>SI</td>\n",
       "    </tr>\n",
       "    <tr>\n",
       "      <th>4</th>\n",
       "      <td>1</td>\n",
       "      <td>0</td>\n",
       "      <td>0</td>\n",
       "      <td>1</td>\n",
       "      <td>0</td>\n",
       "      <td>38</td>\n",
       "      <td>LIMA</td>\n",
       "      <td>INDIRECTO</td>\n",
       "      <td>SI</td>\n",
       "    </tr>\n",
       "  </tbody>\n",
       "</table>\n",
       "</div>"
      ],
      "text/plain": [
       "   tiene_muestras_i  parti_eventos_i  tipo_canal_i  asesorias_i  \\\n",
       "0                 1                1             1            0   \n",
       "1                 1                1             0            1   \n",
       "2                 1                1             0            0   \n",
       "3                 1                1             1            1   \n",
       "4                 1                0             0            1   \n",
       "\n",
       "   lugar_venta_i  Tiempo de visitas en días Lugar de Venta Tipo de Canal  \\\n",
       "0              0                         18           LIMA       DIRECTO   \n",
       "1              1                         30     PROVINCIAS     INDIRECTO   \n",
       "2              1                         11     PROVINCIAS     INDIRECTO   \n",
       "3              0                         24           LIMA       DIRECTO   \n",
       "4              0                         38           LIMA     INDIRECTO   \n",
       "\n",
       "  Tiene Muestras  \n",
       "0             SI  \n",
       "1             SI  \n",
       "2             SI  \n",
       "3             SI  \n",
       "4             SI  "
      ]
     },
     "execution_count": 49,
     "metadata": {},
     "output_type": "execute_result"
    }
   ],
   "source": [
    "x_order_maping = {0:'NO', 1:'SI'}\n",
    "X_smotex['Tiene Muestras'] = X_smote_num['tiene_muestras_i'].map(x_order_maping)\n",
    "categor_cols+=['Tiene Muestras']\n",
    "X_smotex.head()"
   ]
  },
  {
   "cell_type": "code",
   "execution_count": 50,
   "id": "81a86604",
   "metadata": {},
   "outputs": [
    {
     "data": {
      "text/html": [
       "<div>\n",
       "<style scoped>\n",
       "    .dataframe tbody tr th:only-of-type {\n",
       "        vertical-align: middle;\n",
       "    }\n",
       "\n",
       "    .dataframe tbody tr th {\n",
       "        vertical-align: top;\n",
       "    }\n",
       "\n",
       "    .dataframe thead th {\n",
       "        text-align: right;\n",
       "    }\n",
       "</style>\n",
       "<table border=\"1\" class=\"dataframe\">\n",
       "  <thead>\n",
       "    <tr style=\"text-align: right;\">\n",
       "      <th></th>\n",
       "      <th>tiene_muestras_i</th>\n",
       "      <th>parti_eventos_i</th>\n",
       "      <th>tipo_canal_i</th>\n",
       "      <th>asesorias_i</th>\n",
       "      <th>lugar_venta_i</th>\n",
       "      <th>Tiempo de visitas en días</th>\n",
       "      <th>Lugar de Venta</th>\n",
       "      <th>Tipo de Canal</th>\n",
       "      <th>Tiene Muestras</th>\n",
       "      <th>Participó en Eventos</th>\n",
       "    </tr>\n",
       "  </thead>\n",
       "  <tbody>\n",
       "    <tr>\n",
       "      <th>0</th>\n",
       "      <td>1</td>\n",
       "      <td>1</td>\n",
       "      <td>1</td>\n",
       "      <td>0</td>\n",
       "      <td>0</td>\n",
       "      <td>18</td>\n",
       "      <td>LIMA</td>\n",
       "      <td>DIRECTO</td>\n",
       "      <td>SI</td>\n",
       "      <td>SI</td>\n",
       "    </tr>\n",
       "    <tr>\n",
       "      <th>1</th>\n",
       "      <td>1</td>\n",
       "      <td>1</td>\n",
       "      <td>0</td>\n",
       "      <td>1</td>\n",
       "      <td>1</td>\n",
       "      <td>30</td>\n",
       "      <td>PROVINCIAS</td>\n",
       "      <td>INDIRECTO</td>\n",
       "      <td>SI</td>\n",
       "      <td>SI</td>\n",
       "    </tr>\n",
       "    <tr>\n",
       "      <th>2</th>\n",
       "      <td>1</td>\n",
       "      <td>1</td>\n",
       "      <td>0</td>\n",
       "      <td>0</td>\n",
       "      <td>1</td>\n",
       "      <td>11</td>\n",
       "      <td>PROVINCIAS</td>\n",
       "      <td>INDIRECTO</td>\n",
       "      <td>SI</td>\n",
       "      <td>SI</td>\n",
       "    </tr>\n",
       "    <tr>\n",
       "      <th>3</th>\n",
       "      <td>1</td>\n",
       "      <td>1</td>\n",
       "      <td>1</td>\n",
       "      <td>1</td>\n",
       "      <td>0</td>\n",
       "      <td>24</td>\n",
       "      <td>LIMA</td>\n",
       "      <td>DIRECTO</td>\n",
       "      <td>SI</td>\n",
       "      <td>SI</td>\n",
       "    </tr>\n",
       "    <tr>\n",
       "      <th>4</th>\n",
       "      <td>1</td>\n",
       "      <td>0</td>\n",
       "      <td>0</td>\n",
       "      <td>1</td>\n",
       "      <td>0</td>\n",
       "      <td>38</td>\n",
       "      <td>LIMA</td>\n",
       "      <td>INDIRECTO</td>\n",
       "      <td>SI</td>\n",
       "      <td>NO</td>\n",
       "    </tr>\n",
       "  </tbody>\n",
       "</table>\n",
       "</div>"
      ],
      "text/plain": [
       "   tiene_muestras_i  parti_eventos_i  tipo_canal_i  asesorias_i  \\\n",
       "0                 1                1             1            0   \n",
       "1                 1                1             0            1   \n",
       "2                 1                1             0            0   \n",
       "3                 1                1             1            1   \n",
       "4                 1                0             0            1   \n",
       "\n",
       "   lugar_venta_i  Tiempo de visitas en días Lugar de Venta Tipo de Canal  \\\n",
       "0              0                         18           LIMA       DIRECTO   \n",
       "1              1                         30     PROVINCIAS     INDIRECTO   \n",
       "2              1                         11     PROVINCIAS     INDIRECTO   \n",
       "3              0                         24           LIMA       DIRECTO   \n",
       "4              0                         38           LIMA     INDIRECTO   \n",
       "\n",
       "  Tiene Muestras Participó en Eventos  \n",
       "0             SI                   SI  \n",
       "1             SI                   SI  \n",
       "2             SI                   SI  \n",
       "3             SI                   SI  \n",
       "4             SI                   NO  "
      ]
     },
     "execution_count": 50,
     "metadata": {},
     "output_type": "execute_result"
    }
   ],
   "source": [
    "x_order_maping = {0:'NO', 1:'SI'}\n",
    "X_smotex['Participó en Eventos'] = X_smote_num['parti_eventos_i'].map(x_order_maping)\n",
    "categor_cols+=['Participó en Eventos']\n",
    "X_smotex.head()"
   ]
  },
  {
   "cell_type": "code",
   "execution_count": 51,
   "id": "74e470f7",
   "metadata": {},
   "outputs": [
    {
     "data": {
      "text/html": [
       "<div>\n",
       "<style scoped>\n",
       "    .dataframe tbody tr th:only-of-type {\n",
       "        vertical-align: middle;\n",
       "    }\n",
       "\n",
       "    .dataframe tbody tr th {\n",
       "        vertical-align: top;\n",
       "    }\n",
       "\n",
       "    .dataframe thead th {\n",
       "        text-align: right;\n",
       "    }\n",
       "</style>\n",
       "<table border=\"1\" class=\"dataframe\">\n",
       "  <thead>\n",
       "    <tr style=\"text-align: right;\">\n",
       "      <th></th>\n",
       "      <th>tiene_muestras_i</th>\n",
       "      <th>parti_eventos_i</th>\n",
       "      <th>tipo_canal_i</th>\n",
       "      <th>asesorias_i</th>\n",
       "      <th>lugar_venta_i</th>\n",
       "      <th>Tiempo de visitas en días</th>\n",
       "      <th>Lugar de Venta</th>\n",
       "      <th>Tipo de Canal</th>\n",
       "      <th>Tiene Muestras</th>\n",
       "      <th>Participó en Eventos</th>\n",
       "      <th>Asesorías</th>\n",
       "    </tr>\n",
       "  </thead>\n",
       "  <tbody>\n",
       "    <tr>\n",
       "      <th>0</th>\n",
       "      <td>1</td>\n",
       "      <td>1</td>\n",
       "      <td>1</td>\n",
       "      <td>0</td>\n",
       "      <td>0</td>\n",
       "      <td>18</td>\n",
       "      <td>LIMA</td>\n",
       "      <td>DIRECTO</td>\n",
       "      <td>SI</td>\n",
       "      <td>SI</td>\n",
       "      <td>NO</td>\n",
       "    </tr>\n",
       "    <tr>\n",
       "      <th>1</th>\n",
       "      <td>1</td>\n",
       "      <td>1</td>\n",
       "      <td>0</td>\n",
       "      <td>1</td>\n",
       "      <td>1</td>\n",
       "      <td>30</td>\n",
       "      <td>PROVINCIAS</td>\n",
       "      <td>INDIRECTO</td>\n",
       "      <td>SI</td>\n",
       "      <td>SI</td>\n",
       "      <td>SI</td>\n",
       "    </tr>\n",
       "    <tr>\n",
       "      <th>2</th>\n",
       "      <td>1</td>\n",
       "      <td>1</td>\n",
       "      <td>0</td>\n",
       "      <td>0</td>\n",
       "      <td>1</td>\n",
       "      <td>11</td>\n",
       "      <td>PROVINCIAS</td>\n",
       "      <td>INDIRECTO</td>\n",
       "      <td>SI</td>\n",
       "      <td>SI</td>\n",
       "      <td>NO</td>\n",
       "    </tr>\n",
       "    <tr>\n",
       "      <th>3</th>\n",
       "      <td>1</td>\n",
       "      <td>1</td>\n",
       "      <td>1</td>\n",
       "      <td>1</td>\n",
       "      <td>0</td>\n",
       "      <td>24</td>\n",
       "      <td>LIMA</td>\n",
       "      <td>DIRECTO</td>\n",
       "      <td>SI</td>\n",
       "      <td>SI</td>\n",
       "      <td>SI</td>\n",
       "    </tr>\n",
       "    <tr>\n",
       "      <th>4</th>\n",
       "      <td>1</td>\n",
       "      <td>0</td>\n",
       "      <td>0</td>\n",
       "      <td>1</td>\n",
       "      <td>0</td>\n",
       "      <td>38</td>\n",
       "      <td>LIMA</td>\n",
       "      <td>INDIRECTO</td>\n",
       "      <td>SI</td>\n",
       "      <td>NO</td>\n",
       "      <td>SI</td>\n",
       "    </tr>\n",
       "  </tbody>\n",
       "</table>\n",
       "</div>"
      ],
      "text/plain": [
       "   tiene_muestras_i  parti_eventos_i  tipo_canal_i  asesorias_i  \\\n",
       "0                 1                1             1            0   \n",
       "1                 1                1             0            1   \n",
       "2                 1                1             0            0   \n",
       "3                 1                1             1            1   \n",
       "4                 1                0             0            1   \n",
       "\n",
       "   lugar_venta_i  Tiempo de visitas en días Lugar de Venta Tipo de Canal  \\\n",
       "0              0                         18           LIMA       DIRECTO   \n",
       "1              1                         30     PROVINCIAS     INDIRECTO   \n",
       "2              1                         11     PROVINCIAS     INDIRECTO   \n",
       "3              0                         24           LIMA       DIRECTO   \n",
       "4              0                         38           LIMA     INDIRECTO   \n",
       "\n",
       "  Tiene Muestras Participó en Eventos Asesorías  \n",
       "0             SI                   SI        NO  \n",
       "1             SI                   SI        SI  \n",
       "2             SI                   SI        NO  \n",
       "3             SI                   SI        SI  \n",
       "4             SI                   NO        SI  "
      ]
     },
     "execution_count": 51,
     "metadata": {},
     "output_type": "execute_result"
    }
   ],
   "source": [
    "x_order_maping = {0:'NO', 1:'SI'}\n",
    "X_smotex['Asesorías'] = X_smote_num['asesorias_i'].map(x_order_maping)\n",
    "categor_cols+=['Asesorías']\n",
    "X_smotex.head()"
   ]
  },
  {
   "cell_type": "code",
   "execution_count": 52,
   "id": "189ddc45",
   "metadata": {},
   "outputs": [
    {
     "data": {
      "text/plain": [
       "{'Asesorías',\n",
       " 'Lugar de Venta',\n",
       " 'Participó en Eventos',\n",
       " 'Tiempo de visitas en días',\n",
       " 'Tiene Muestras',\n",
       " 'Tipo de Canal'}"
      ]
     },
     "execution_count": 52,
     "metadata": {},
     "output_type": "execute_result"
    }
   ],
   "source": [
    "categor_cols=set(categor_cols)\n",
    "categor_cols"
   ]
  },
  {
   "cell_type": "code",
   "execution_count": 53,
   "id": "3a7f2f40",
   "metadata": {},
   "outputs": [
    {
     "data": {
      "text/html": [
       "<div>\n",
       "<style scoped>\n",
       "    .dataframe tbody tr th:only-of-type {\n",
       "        vertical-align: middle;\n",
       "    }\n",
       "\n",
       "    .dataframe tbody tr th {\n",
       "        vertical-align: top;\n",
       "    }\n",
       "\n",
       "    .dataframe thead th {\n",
       "        text-align: right;\n",
       "    }\n",
       "</style>\n",
       "<table border=\"1\" class=\"dataframe\">\n",
       "  <thead>\n",
       "    <tr style=\"text-align: right;\">\n",
       "      <th></th>\n",
       "      <th>Asesorías</th>\n",
       "      <th>Tiene Muestras</th>\n",
       "      <th>Participó en Eventos</th>\n",
       "      <th>Tiempo de visitas en días</th>\n",
       "      <th>Tipo de Canal</th>\n",
       "      <th>Lugar de Venta</th>\n",
       "    </tr>\n",
       "  </thead>\n",
       "  <tbody>\n",
       "    <tr>\n",
       "      <th>0</th>\n",
       "      <td>NO</td>\n",
       "      <td>SI</td>\n",
       "      <td>SI</td>\n",
       "      <td>18</td>\n",
       "      <td>DIRECTO</td>\n",
       "      <td>LIMA</td>\n",
       "    </tr>\n",
       "    <tr>\n",
       "      <th>1</th>\n",
       "      <td>SI</td>\n",
       "      <td>SI</td>\n",
       "      <td>SI</td>\n",
       "      <td>30</td>\n",
       "      <td>INDIRECTO</td>\n",
       "      <td>PROVINCIAS</td>\n",
       "    </tr>\n",
       "    <tr>\n",
       "      <th>2</th>\n",
       "      <td>NO</td>\n",
       "      <td>SI</td>\n",
       "      <td>SI</td>\n",
       "      <td>11</td>\n",
       "      <td>INDIRECTO</td>\n",
       "      <td>PROVINCIAS</td>\n",
       "    </tr>\n",
       "    <tr>\n",
       "      <th>3</th>\n",
       "      <td>SI</td>\n",
       "      <td>SI</td>\n",
       "      <td>SI</td>\n",
       "      <td>24</td>\n",
       "      <td>DIRECTO</td>\n",
       "      <td>LIMA</td>\n",
       "    </tr>\n",
       "    <tr>\n",
       "      <th>4</th>\n",
       "      <td>SI</td>\n",
       "      <td>SI</td>\n",
       "      <td>NO</td>\n",
       "      <td>38</td>\n",
       "      <td>INDIRECTO</td>\n",
       "      <td>LIMA</td>\n",
       "    </tr>\n",
       "    <tr>\n",
       "      <th>...</th>\n",
       "      <td>...</td>\n",
       "      <td>...</td>\n",
       "      <td>...</td>\n",
       "      <td>...</td>\n",
       "      <td>...</td>\n",
       "      <td>...</td>\n",
       "    </tr>\n",
       "    <tr>\n",
       "      <th>811</th>\n",
       "      <td>NO</td>\n",
       "      <td>NO</td>\n",
       "      <td>NO</td>\n",
       "      <td>18</td>\n",
       "      <td>DIRECTO</td>\n",
       "      <td>LIMA</td>\n",
       "    </tr>\n",
       "    <tr>\n",
       "      <th>812</th>\n",
       "      <td>NO</td>\n",
       "      <td>NO</td>\n",
       "      <td>NO</td>\n",
       "      <td>19</td>\n",
       "      <td>DIRECTO</td>\n",
       "      <td>LIMA</td>\n",
       "    </tr>\n",
       "    <tr>\n",
       "      <th>813</th>\n",
       "      <td>NO</td>\n",
       "      <td>NO</td>\n",
       "      <td>NO</td>\n",
       "      <td>0</td>\n",
       "      <td>DIRECTO</td>\n",
       "      <td>LIMA</td>\n",
       "    </tr>\n",
       "    <tr>\n",
       "      <th>814</th>\n",
       "      <td>NO</td>\n",
       "      <td>NO</td>\n",
       "      <td>NO</td>\n",
       "      <td>0</td>\n",
       "      <td>DIRECTO</td>\n",
       "      <td>LIMA</td>\n",
       "    </tr>\n",
       "    <tr>\n",
       "      <th>815</th>\n",
       "      <td>NO</td>\n",
       "      <td>NO</td>\n",
       "      <td>NO</td>\n",
       "      <td>0</td>\n",
       "      <td>DIRECTO</td>\n",
       "      <td>LIMA</td>\n",
       "    </tr>\n",
       "  </tbody>\n",
       "</table>\n",
       "<p>816 rows × 6 columns</p>\n",
       "</div>"
      ],
      "text/plain": [
       "    Asesorías Tiene Muestras Participó en Eventos  Tiempo de visitas en días  \\\n",
       "0          NO             SI                   SI                         18   \n",
       "1          SI             SI                   SI                         30   \n",
       "2          NO             SI                   SI                         11   \n",
       "3          SI             SI                   SI                         24   \n",
       "4          SI             SI                   NO                         38   \n",
       "..        ...            ...                  ...                        ...   \n",
       "811        NO             NO                   NO                         18   \n",
       "812        NO             NO                   NO                         19   \n",
       "813        NO             NO                   NO                          0   \n",
       "814        NO             NO                   NO                          0   \n",
       "815        NO             NO                   NO                          0   \n",
       "\n",
       "    Tipo de Canal Lugar de Venta  \n",
       "0         DIRECTO           LIMA  \n",
       "1       INDIRECTO     PROVINCIAS  \n",
       "2       INDIRECTO     PROVINCIAS  \n",
       "3         DIRECTO           LIMA  \n",
       "4       INDIRECTO           LIMA  \n",
       "..            ...            ...  \n",
       "811       DIRECTO           LIMA  \n",
       "812       DIRECTO           LIMA  \n",
       "813       DIRECTO           LIMA  \n",
       "814       DIRECTO           LIMA  \n",
       "815       DIRECTO           LIMA  \n",
       "\n",
       "[816 rows x 6 columns]"
      ]
     },
     "execution_count": 53,
     "metadata": {},
     "output_type": "execute_result"
    }
   ],
   "source": [
    "# selectecting cols categoricos\n",
    "X_smote=X_smotex[categor_cols] \n",
    "X_smote"
   ]
  },
  {
   "cell_type": "code",
   "execution_count": 54,
   "id": "2c3dfebb",
   "metadata": {},
   "outputs": [
    {
     "data": {
      "text/html": [
       "<div>\n",
       "<style scoped>\n",
       "    .dataframe tbody tr th:only-of-type {\n",
       "        vertical-align: middle;\n",
       "    }\n",
       "\n",
       "    .dataframe tbody tr th {\n",
       "        vertical-align: top;\n",
       "    }\n",
       "\n",
       "    .dataframe thead th {\n",
       "        text-align: right;\n",
       "    }\n",
       "</style>\n",
       "<table border=\"1\" class=\"dataframe\">\n",
       "  <thead>\n",
       "    <tr style=\"text-align: right;\">\n",
       "      <th></th>\n",
       "      <th>label</th>\n",
       "    </tr>\n",
       "  </thead>\n",
       "  <tbody>\n",
       "    <tr>\n",
       "      <th>0</th>\n",
       "      <td>SI</td>\n",
       "    </tr>\n",
       "    <tr>\n",
       "      <th>1</th>\n",
       "      <td>SI</td>\n",
       "    </tr>\n",
       "    <tr>\n",
       "      <th>2</th>\n",
       "      <td>SI</td>\n",
       "    </tr>\n",
       "    <tr>\n",
       "      <th>3</th>\n",
       "      <td>SI</td>\n",
       "    </tr>\n",
       "    <tr>\n",
       "      <th>4</th>\n",
       "      <td>SI</td>\n",
       "    </tr>\n",
       "    <tr>\n",
       "      <th>...</th>\n",
       "      <td>...</td>\n",
       "    </tr>\n",
       "    <tr>\n",
       "      <th>811</th>\n",
       "      <td>NO</td>\n",
       "    </tr>\n",
       "    <tr>\n",
       "      <th>812</th>\n",
       "      <td>NO</td>\n",
       "    </tr>\n",
       "    <tr>\n",
       "      <th>813</th>\n",
       "      <td>NO</td>\n",
       "    </tr>\n",
       "    <tr>\n",
       "      <th>814</th>\n",
       "      <td>NO</td>\n",
       "    </tr>\n",
       "    <tr>\n",
       "      <th>815</th>\n",
       "      <td>NO</td>\n",
       "    </tr>\n",
       "  </tbody>\n",
       "</table>\n",
       "<p>816 rows × 1 columns</p>\n",
       "</div>"
      ],
      "text/plain": [
       "    label\n",
       "0      SI\n",
       "1      SI\n",
       "2      SI\n",
       "3      SI\n",
       "4      SI\n",
       "..    ...\n",
       "811    NO\n",
       "812    NO\n",
       "813    NO\n",
       "814    NO\n",
       "815    NO\n",
       "\n",
       "[816 rows x 1 columns]"
      ]
     },
     "execution_count": 54,
     "metadata": {},
     "output_type": "execute_result"
    }
   ],
   "source": [
    "y_smotef=y_smote.rename(columns={'Ventas': 'label'}) # spark trabaja con label para la var dependiente\n",
    "y_smotef"
   ]
  },
  {
   "cell_type": "code",
   "execution_count": 55,
   "id": "d2ec695f",
   "metadata": {},
   "outputs": [
    {
     "data": {
      "text/html": [
       "<div>\n",
       "<style scoped>\n",
       "    .dataframe tbody tr th:only-of-type {\n",
       "        vertical-align: middle;\n",
       "    }\n",
       "\n",
       "    .dataframe tbody tr th {\n",
       "        vertical-align: top;\n",
       "    }\n",
       "\n",
       "    .dataframe thead th {\n",
       "        text-align: right;\n",
       "    }\n",
       "</style>\n",
       "<table border=\"1\" class=\"dataframe\">\n",
       "  <thead>\n",
       "    <tr style=\"text-align: right;\">\n",
       "      <th></th>\n",
       "      <th>Asesorías</th>\n",
       "      <th>Lugar de Venta</th>\n",
       "      <th>Participó en Eventos</th>\n",
       "      <th>Tiempo de visitas en días</th>\n",
       "      <th>Tiene Muestras</th>\n",
       "      <th>Tipo de Canal</th>\n",
       "      <th>label</th>\n",
       "    </tr>\n",
       "  </thead>\n",
       "  <tbody>\n",
       "    <tr>\n",
       "      <th>0</th>\n",
       "      <td>NO</td>\n",
       "      <td>LIMA</td>\n",
       "      <td>SI</td>\n",
       "      <td>18</td>\n",
       "      <td>SI</td>\n",
       "      <td>DIRECTO</td>\n",
       "      <td>SI</td>\n",
       "    </tr>\n",
       "    <tr>\n",
       "      <th>1</th>\n",
       "      <td>SI</td>\n",
       "      <td>PROVINCIAS</td>\n",
       "      <td>SI</td>\n",
       "      <td>30</td>\n",
       "      <td>SI</td>\n",
       "      <td>INDIRECTO</td>\n",
       "      <td>SI</td>\n",
       "    </tr>\n",
       "    <tr>\n",
       "      <th>2</th>\n",
       "      <td>NO</td>\n",
       "      <td>PROVINCIAS</td>\n",
       "      <td>SI</td>\n",
       "      <td>11</td>\n",
       "      <td>SI</td>\n",
       "      <td>INDIRECTO</td>\n",
       "      <td>SI</td>\n",
       "    </tr>\n",
       "    <tr>\n",
       "      <th>3</th>\n",
       "      <td>SI</td>\n",
       "      <td>LIMA</td>\n",
       "      <td>SI</td>\n",
       "      <td>24</td>\n",
       "      <td>SI</td>\n",
       "      <td>DIRECTO</td>\n",
       "      <td>SI</td>\n",
       "    </tr>\n",
       "    <tr>\n",
       "      <th>4</th>\n",
       "      <td>SI</td>\n",
       "      <td>LIMA</td>\n",
       "      <td>NO</td>\n",
       "      <td>38</td>\n",
       "      <td>SI</td>\n",
       "      <td>INDIRECTO</td>\n",
       "      <td>SI</td>\n",
       "    </tr>\n",
       "    <tr>\n",
       "      <th>...</th>\n",
       "      <td>...</td>\n",
       "      <td>...</td>\n",
       "      <td>...</td>\n",
       "      <td>...</td>\n",
       "      <td>...</td>\n",
       "      <td>...</td>\n",
       "      <td>...</td>\n",
       "    </tr>\n",
       "    <tr>\n",
       "      <th>811</th>\n",
       "      <td>NO</td>\n",
       "      <td>LIMA</td>\n",
       "      <td>NO</td>\n",
       "      <td>18</td>\n",
       "      <td>NO</td>\n",
       "      <td>DIRECTO</td>\n",
       "      <td>NO</td>\n",
       "    </tr>\n",
       "    <tr>\n",
       "      <th>812</th>\n",
       "      <td>NO</td>\n",
       "      <td>LIMA</td>\n",
       "      <td>NO</td>\n",
       "      <td>19</td>\n",
       "      <td>NO</td>\n",
       "      <td>DIRECTO</td>\n",
       "      <td>NO</td>\n",
       "    </tr>\n",
       "    <tr>\n",
       "      <th>813</th>\n",
       "      <td>NO</td>\n",
       "      <td>LIMA</td>\n",
       "      <td>NO</td>\n",
       "      <td>0</td>\n",
       "      <td>NO</td>\n",
       "      <td>DIRECTO</td>\n",
       "      <td>NO</td>\n",
       "    </tr>\n",
       "    <tr>\n",
       "      <th>814</th>\n",
       "      <td>NO</td>\n",
       "      <td>LIMA</td>\n",
       "      <td>NO</td>\n",
       "      <td>0</td>\n",
       "      <td>NO</td>\n",
       "      <td>DIRECTO</td>\n",
       "      <td>NO</td>\n",
       "    </tr>\n",
       "    <tr>\n",
       "      <th>815</th>\n",
       "      <td>NO</td>\n",
       "      <td>LIMA</td>\n",
       "      <td>NO</td>\n",
       "      <td>0</td>\n",
       "      <td>NO</td>\n",
       "      <td>DIRECTO</td>\n",
       "      <td>NO</td>\n",
       "    </tr>\n",
       "  </tbody>\n",
       "</table>\n",
       "<p>816 rows × 7 columns</p>\n",
       "</div>"
      ],
      "text/plain": [
       "    Asesorías Lugar de Venta Participó en Eventos  Tiempo de visitas en días  \\\n",
       "0          NO           LIMA                   SI                         18   \n",
       "1          SI     PROVINCIAS                   SI                         30   \n",
       "2          NO     PROVINCIAS                   SI                         11   \n",
       "3          SI           LIMA                   SI                         24   \n",
       "4          SI           LIMA                   NO                         38   \n",
       "..        ...            ...                  ...                        ...   \n",
       "811        NO           LIMA                   NO                         18   \n",
       "812        NO           LIMA                   NO                         19   \n",
       "813        NO           LIMA                   NO                          0   \n",
       "814        NO           LIMA                   NO                          0   \n",
       "815        NO           LIMA                   NO                          0   \n",
       "\n",
       "    Tiene Muestras Tipo de Canal label  \n",
       "0               SI       DIRECTO    SI  \n",
       "1               SI     INDIRECTO    SI  \n",
       "2               SI     INDIRECTO    SI  \n",
       "3               SI       DIRECTO    SI  \n",
       "4               SI     INDIRECTO    SI  \n",
       "..             ...           ...   ...  \n",
       "811             NO       DIRECTO    NO  \n",
       "812             NO       DIRECTO    NO  \n",
       "813             NO       DIRECTO    NO  \n",
       "814             NO       DIRECTO    NO  \n",
       "815             NO       DIRECTO    NO  \n",
       "\n",
       "[816 rows x 7 columns]"
      ]
     },
     "execution_count": 55,
     "metadata": {},
     "output_type": "execute_result"
    }
   ],
   "source": [
    "#Combine the resampled data into one spark dataframe\n",
    "df_smote = X_smote.combine_first(y_smotef)\n",
    "df_smote"
   ]
  },
  {
   "cell_type": "code",
   "execution_count": 56,
   "id": "6da28cde",
   "metadata": {},
   "outputs": [],
   "source": [
    "#change it back to spark dataframe\n",
    "df2 = spark.createDataFrame(df_smote)"
   ]
  },
  {
   "cell_type": "markdown",
   "id": "9b7b0a0c",
   "metadata": {},
   "source": [
    "# Step 3) Build a data processing pipeline"
   ]
  },
  {
   "cell_type": "code",
   "execution_count": 57,
   "id": "e7f10ab9",
   "metadata": {},
   "outputs": [],
   "source": [
    "from pyspark.ml import Pipeline\n",
    "from pyspark.ml.feature import StringIndexer, OneHotEncoder, VectorAssembler\n",
    "# https://www.guru99.com/pyspark-tutorial.html go to Step 3)"
   ]
  },
  {
   "cell_type": "code",
   "execution_count": 58,
   "id": "91c976b7",
   "metadata": {},
   "outputs": [],
   "source": [
    "CATE_FEATURES = ['label',\n",
    "       'Asesorías', \n",
    "       'Participó en Eventos', 'Tiene Muestras', \n",
    "       'Tipo de Canal',\n",
    "       'Lugar de Venta']\n",
    "CONTI_FEATURES  = ['Tiempo de visitas en días']"
   ]
  },
  {
   "cell_type": "code",
   "execution_count": 59,
   "id": "5ba2be68",
   "metadata": {},
   "outputs": [],
   "source": [
    "stages = [] # stages in our Pipeline\n",
    "for categoricalCol in CATE_FEATURES:\n",
    "    stringIndexer = StringIndexer(inputCol=categoricalCol, outputCol=categoricalCol + \"Index\")\n",
    "    encoder = OneHotEncoder(inputCols=[stringIndexer.getOutputCol()],\n",
    "                                     outputCols=[categoricalCol + \"classVec\"])\n",
    "    stages += [stringIndexer, encoder]"
   ]
  },
  {
   "cell_type": "code",
   "execution_count": 60,
   "id": "f820efce",
   "metadata": {},
   "outputs": [],
   "source": [
    "# Convert label into label indices using the StringIndexer\n",
    "label_stringIdx =  StringIndexer(inputCol=\"label\", outputCol=\"newlabel\") # var depend\n",
    "stages += [label_stringIdx]"
   ]
  },
  {
   "cell_type": "code",
   "execution_count": 61,
   "id": "f22e31ab",
   "metadata": {},
   "outputs": [],
   "source": [
    "assemblerInputs = [c + \"classVec\" for c in CATE_FEATURES] + CONTI_FEATURES   # vars independientes\n"
   ]
  },
  {
   "cell_type": "code",
   "execution_count": 62,
   "id": "638884b3",
   "metadata": {},
   "outputs": [],
   "source": [
    "assembler = VectorAssembler(inputCols=assemblerInputs, outputCol=\"features\")\n",
    "stages += [assembler]"
   ]
  },
  {
   "cell_type": "code",
   "execution_count": 63,
   "id": "4a0c881d",
   "metadata": {},
   "outputs": [
    {
     "name": "stderr",
     "output_type": "stream",
     "text": [
      "                                                                                \r"
     ]
    }
   ],
   "source": [
    "# Create a Pipeline.\n",
    "pipeline = Pipeline(stages=stages)\n",
    "pipelineModel = pipeline.fit(df2)\n",
    "model = pipelineModel.transform(df2)"
   ]
  },
  {
   "cell_type": "code",
   "execution_count": 64,
   "id": "d0f47d6f",
   "metadata": {},
   "outputs": [
    {
     "data": {
      "text/plain": [
       "[Row(Asesorías='NO', Lugar de Venta='LIMA', Participó en Eventos='SI', Tiempo de visitas en días=18, Tiene Muestras='SI', Tipo de Canal='DIRECTO', label='SI', labelIndex=1.0, labelclassVec=SparseVector(1, {}), AsesoríasIndex=0.0, AsesoríasclassVec=SparseVector(1, {0: 1.0}), Participó en EventosIndex=1.0, Participó en EventosclassVec=SparseVector(1, {}), Tiene MuestrasIndex=1.0, Tiene MuestrasclassVec=SparseVector(1, {}), Tipo de CanalIndex=0.0, Tipo de CanalclassVec=SparseVector(1, {0: 1.0}), Lugar de VentaIndex=0.0, Lugar de VentaclassVec=SparseVector(1, {0: 1.0}), newlabel=1.0, features=DenseVector([0.0, 1.0, 0.0, 0.0, 1.0, 1.0, 18.0]))]"
      ]
     },
     "execution_count": 64,
     "metadata": {},
     "output_type": "execute_result"
    }
   ],
   "source": [
    "model.take (1)"
   ]
  },
  {
   "cell_type": "code",
   "execution_count": null,
   "id": "6273d40c",
   "metadata": {},
   "outputs": [],
   "source": []
  },
  {
   "cell_type": "code",
   "execution_count": 67,
   "id": "8bd6ffab",
   "metadata": {},
   "outputs": [],
   "source": [
    "from pyspark.ml.linalg import DenseVector\n",
    "input_data = model.rdd.map(lambda x: (x[\"newlabel\"], DenseVector(x[\"features\"]))) # seleccionamos los datos según spark"
   ]
  },
  {
   "cell_type": "code",
   "execution_count": 68,
   "id": "ea795727",
   "metadata": {},
   "outputs": [
    {
     "data": {
      "text/plain": [
       "PythonRDD[125] at RDD at PythonRDD.scala:53"
      ]
     },
     "execution_count": 68,
     "metadata": {},
     "output_type": "execute_result"
    }
   ],
   "source": [
    "input_data"
   ]
  },
  {
   "cell_type": "code",
   "execution_count": 69,
   "id": "2c92ef68",
   "metadata": {},
   "outputs": [],
   "source": [
    "df3 = sqlContext.createDataFrame(input_data, [\"label\", \"features\"])"
   ]
  },
  {
   "cell_type": "code",
   "execution_count": 70,
   "id": "235a01fb",
   "metadata": {},
   "outputs": [
    {
     "name": "stdout",
     "output_type": "stream",
     "text": [
      "+-----+--------------------+\n",
      "|label|            features|\n",
      "+-----+--------------------+\n",
      "|  1.0|[0.0,1.0,0.0,0.0,...|\n",
      "|  1.0|[0.0,0.0,0.0,0.0,...|\n",
      "|  1.0|[0.0,1.0,0.0,0.0,...|\n",
      "|  1.0|[0.0,0.0,0.0,0.0,...|\n",
      "|  1.0|[0.0,0.0,1.0,0.0,...|\n",
      "+-----+--------------------+\n",
      "only showing top 5 rows\n",
      "\n"
     ]
    }
   ],
   "source": [
    "df3.show(5) "
   ]
  },
  {
   "cell_type": "markdown",
   "id": "63fc9c8e",
   "metadata": {},
   "source": [
    "## Create a train/test set"
   ]
  },
  {
   "cell_type": "code",
   "execution_count": 71,
   "id": "b731dbb4",
   "metadata": {},
   "outputs": [],
   "source": [
    "#You split the dataset 80/20 with randomSplit.\n",
    "# Split the data into train and test sets\n",
    "train_data, test_data = df3.randomSplit([.8,.2],seed=1234)\n"
   ]
  },
  {
   "cell_type": "code",
   "execution_count": 72,
   "id": "909e30b7",
   "metadata": {},
   "outputs": [
    {
     "name": "stderr",
     "output_type": "stream",
     "text": [
      "\r",
      "[Stage 49:>                                                       (0 + 16) / 16]\r",
      "\r",
      "[Stage 49:=================================================>      (14 + 2) / 16]\r"
     ]
    },
    {
     "name": "stdout",
     "output_type": "stream",
     "text": [
      "+-----+------------+\n",
      "|label|count(label)|\n",
      "+-----+------------+\n",
      "|  0.0|         321|\n",
      "|  1.0|         329|\n",
      "+-----+------------+\n",
      "\n"
     ]
    },
    {
     "name": "stderr",
     "output_type": "stream",
     "text": [
      "\r",
      "                                                                                \r"
     ]
    }
   ],
   "source": [
    "train_data.groupby('label').agg({'label': 'count'}).show()\n"
   ]
  },
  {
   "cell_type": "code",
   "execution_count": 74,
   "id": "8b5bd425",
   "metadata": {},
   "outputs": [
    {
     "name": "stdout",
     "output_type": "stream",
     "text": [
      "+-----+--------------------+\n",
      "|label|            features|\n",
      "+-----+--------------------+\n",
      "|  0.0|[1.0,0.0,0.0,0.0,...|\n",
      "|  1.0|[0.0,0.0,0.0,0.0,...|\n",
      "|  1.0|[0.0,0.0,0.0,0.0,...|\n",
      "|  1.0|[0.0,0.0,0.0,0.0,...|\n",
      "|  1.0|[0.0,0.0,0.0,0.0,...|\n",
      "|  1.0|[0.0,0.0,0.0,0.0,...|\n",
      "|  1.0|[0.0,0.0,0.0,0.0,...|\n",
      "|  1.0|[0.0,0.0,0.0,0.0,...|\n",
      "|  1.0|[0.0,0.0,0.0,0.0,...|\n",
      "|  1.0|[0.0,0.0,0.0,0.0,...|\n",
      "|  1.0|[0.0,0.0,0.0,0.0,...|\n",
      "|  1.0|[0.0,0.0,0.0,0.0,...|\n",
      "|  1.0|[0.0,0.0,0.0,0.0,...|\n",
      "|  1.0|[0.0,0.0,0.0,1.0,...|\n",
      "|  1.0|[0.0,0.0,0.0,1.0,...|\n",
      "|  1.0|[0.0,0.0,0.0,1.0,...|\n",
      "|  1.0|[0.0,0.0,1.0,0.0,...|\n",
      "|  1.0|[0.0,0.0,1.0,0.0,...|\n",
      "|  1.0|[0.0,0.0,1.0,0.0,...|\n",
      "|  1.0|[0.0,0.0,1.0,1.0,...|\n",
      "+-----+--------------------+\n",
      "only showing top 20 rows\n",
      "\n"
     ]
    }
   ],
   "source": [
    "train_data.show()"
   ]
  },
  {
   "cell_type": "code",
   "execution_count": 75,
   "id": "c6fafe27",
   "metadata": {},
   "outputs": [
    {
     "name": "stdout",
     "output_type": "stream",
     "text": [
      "+-----+------------+\n",
      "|label|count(label)|\n",
      "+-----+------------+\n",
      "|  0.0|          87|\n",
      "|  1.0|          79|\n",
      "+-----+------------+\n",
      "\n"
     ]
    }
   ],
   "source": [
    "test_data.groupby('label').agg({'label': 'count'}).show()"
   ]
  },
  {
   "cell_type": "code",
   "execution_count": 76,
   "id": "a7b78729",
   "metadata": {},
   "outputs": [
    {
     "name": "stdout",
     "output_type": "stream",
     "text": [
      "+-----+--------------------+\n",
      "|label|            features|\n",
      "+-----+--------------------+\n",
      "|  0.0|[1.0,1.0,0.0,0.0,...|\n",
      "|  1.0|[0.0,0.0,0.0,0.0,...|\n",
      "|  1.0|[0.0,0.0,1.0,1.0,...|\n",
      "|  1.0|[0.0,1.0,0.0,0.0,...|\n",
      "|  1.0|[0.0,1.0,0.0,0.0,...|\n",
      "|  1.0|[0.0,1.0,0.0,0.0,...|\n",
      "|  1.0|[0.0,1.0,0.0,0.0,...|\n",
      "|  1.0|[0.0,1.0,0.0,1.0,...|\n",
      "|  1.0|[0.0,1.0,1.0,1.0,...|\n",
      "|  1.0|[0.0,1.0,1.0,1.0,...|\n",
      "|  1.0|[0.0,0.0,1.0,0.0,...|\n",
      "|  1.0|[0.0,0.0,1.0,1.0,...|\n",
      "|  1.0|[0.0,0.0,1.0,1.0,...|\n",
      "|  1.0|[0.0,1.0,0.0,0.0,...|\n",
      "|  1.0|[0.0,1.0,0.0,0.0,...|\n",
      "|  1.0|[0.0,1.0,0.0,0.0,...|\n",
      "|  1.0|[0.0,1.0,0.0,0.0,...|\n",
      "|  1.0|[0.0,1.0,0.0,0.0,...|\n",
      "|  1.0|[0.0,1.0,0.0,0.0,...|\n",
      "|  1.0|[0.0,1.0,1.0,1.0,...|\n",
      "+-----+--------------------+\n",
      "only showing top 20 rows\n",
      "\n"
     ]
    }
   ],
   "source": [
    "test_data.show()"
   ]
  },
  {
   "cell_type": "markdown",
   "id": "e1d429d8",
   "metadata": {},
   "source": [
    "# Step 5) Train and evaluate the model\n"
   ]
  },
  {
   "cell_type": "markdown",
   "id": "a74e8d30",
   "metadata": {},
   "source": [
    "## Clasificardor 1: LogisticRegression"
   ]
  },
  {
   "cell_type": "markdown",
   "id": "b0145324",
   "metadata": {},
   "source": [
    "### Modeling"
   ]
  },
  {
   "cell_type": "code",
   "execution_count": 77,
   "id": "15d46962",
   "metadata": {},
   "outputs": [
    {
     "name": "stderr",
     "output_type": "stream",
     "text": [
      "21/12/13 04:49:50 WARN InstanceBuilder$NativeBLAS: Failed to load implementation from:dev.ludovic.netlib.blas.JNIBLAS\n",
      "21/12/13 04:49:50 WARN InstanceBuilder$NativeBLAS: Failed to load implementation from:dev.ludovic.netlib.blas.ForeignLinkerBLAS\n",
      "                                                                                \r"
     ]
    }
   ],
   "source": [
    "\n",
    "from pyspark.ml.classification import LogisticRegression\n",
    "\n",
    "# Initialize `lr`\n",
    "lr = LogisticRegression(labelCol=\"label\",\n",
    "                        featuresCol=\"features\",\n",
    "                        maxIter=10,\n",
    "                        regParam=0.3)\n",
    "\n",
    "# Fit the data to the model\n",
    "logModel = lr.fit(train_data)"
   ]
  },
  {
   "cell_type": "code",
   "execution_count": 79,
   "id": "12fdcd85",
   "metadata": {},
   "outputs": [
    {
     "name": "stdout",
     "output_type": "stream",
     "text": [
      "Coefficients: [-1.5529342637104364,-0.5159093344445961,-0.2308856828119655,-0.11571280366319874,-0.8369300236651677,-0.5000213906253016,0.005009574104583872]\n",
      "Intercept: 2.374202614441741\n"
     ]
    }
   ],
   "source": [
    "# Print the coefficients and intercept for logistic regression\n",
    "print(\"Coefficients: \" + str(logModel.coefficients))\n",
    "print(\"Intercept: \" + str(logModel.intercept))"
   ]
  },
  {
   "cell_type": "code",
   "execution_count": 80,
   "id": "e199c1d4",
   "metadata": {},
   "outputs": [],
   "source": [
    "# Make predictions on test data using the transform() method.\n",
    "predictions = logModel.transform(test_data)"
   ]
  },
  {
   "cell_type": "code",
   "execution_count": 74,
   "id": "a35f6765",
   "metadata": {},
   "outputs": [
    {
     "name": "stdout",
     "output_type": "stream",
     "text": [
      "root\n",
      " |-- label: double (nullable = true)\n",
      " |-- features: vector (nullable = true)\n",
      " |-- rawPrediction: vector (nullable = true)\n",
      " |-- probability: vector (nullable = true)\n",
      " |-- prediction: double (nullable = false)\n",
      "\n"
     ]
    }
   ],
   "source": [
    "predictions.printSchema()"
   ]
  },
  {
   "cell_type": "code",
   "execution_count": 81,
   "id": "5f8b7cae",
   "metadata": {},
   "outputs": [
    {
     "name": "stdout",
     "output_type": "stream",
     "text": [
      "+-----+----------+--------------------+\n",
      "|label|prediction|         probability|\n",
      "+-----+----------+--------------------+\n",
      "|  0.0|       0.0|[0.73430270490592...|\n",
      "|  1.0|       1.0|[0.07415908508637...|\n",
      "|  1.0|       1.0|[0.17834763549272...|\n",
      "|  1.0|       1.0|[0.12972646556790...|\n",
      "|  1.0|       1.0|[0.12859951888842...|\n",
      "|  1.0|       1.0|[0.20128052843934...|\n",
      "|  1.0|       1.0|[0.20128052843934...|\n",
      "|  1.0|       1.0|[0.37265366824038...|\n",
      "|  1.0|       1.0|[0.25033317147482...|\n",
      "|  1.0|       1.0|[0.45642497997575...|\n",
      "|  1.0|       1.0|[0.13959826708347...|\n",
      "|  1.0|       1.0|[0.17761471623960...|\n",
      "|  1.0|       1.0|[0.21997403072084...|\n",
      "|  1.0|       1.0|[0.11118293398980...|\n",
      "|  1.0|       1.0|[0.15790821661521...|\n",
      "|  1.0|       1.0|[0.26281618400183...|\n",
      "|  1.0|       1.0|[0.36786657982659...|\n",
      "|  1.0|       1.0|[0.35744605261702...|\n",
      "|  1.0|       1.0|[0.32371446003907...|\n",
      "|  1.0|       1.0|[0.17774025554017...|\n",
      "|  1.0|       1.0|[0.26665249084600...|\n",
      "|  0.0|       0.0|[0.61077203794052...|\n",
      "|  1.0|       1.0|[0.17117122994423...|\n",
      "|  1.0|       1.0|[0.16681884225899...|\n",
      "|  1.0|       1.0|[0.19887525413143...|\n",
      "|  1.0|       1.0|[0.18793672185694...|\n",
      "|  1.0|       1.0|[0.22225415329383...|\n",
      "|  1.0|       1.0|[0.39755856272299...|\n",
      "|  1.0|       1.0|[0.38443790976522...|\n",
      "|  1.0|       1.0|[0.38443790976522...|\n",
      "|  1.0|       1.0|[0.37148326452717...|\n",
      "|  1.0|       1.0|[0.23191664501368...|\n",
      "|  1.0|       1.0|[0.25792919194388...|\n",
      "|  1.0|       1.0|[0.45021767237018...|\n",
      "|  1.0|       1.0|[0.08284842200116...|\n",
      "|  1.0|       1.0|[0.08246856631065...|\n",
      "|  1.0|       1.0|[0.11717495617123...|\n",
      "|  1.0|       1.0|[0.17547776945440...|\n",
      "|  1.0|       1.0|[0.17331392804521...|\n",
      "|  1.0|       1.0|[0.17259734947288...|\n",
      "|  1.0|       1.0|[0.24572300943113...|\n",
      "|  1.0|       1.0|[0.45518237239095...|\n",
      "|  1.0|       1.0|[0.45021767237018...|\n",
      "|  0.0|       0.0|[0.75901835686430...|\n",
      "|  1.0|       1.0|[0.13190715469169...|\n",
      "|  1.0|       1.0|[0.13369464140198...|\n",
      "|  1.0|       1.0|[0.20208710634548...|\n",
      "|  1.0|       1.0|[0.20128052843934...|\n",
      "|  1.0|       1.0|[0.19728377930413...|\n",
      "|  1.0|       1.0|[0.19570192896045...|\n",
      "|  1.0|       1.0|[0.37253851417758...|\n",
      "|  1.0|       1.0|[0.22399085396928...|\n",
      "|  1.0|       1.0|[0.17700929459252...|\n",
      "|  1.0|       1.0|[0.26665249084600...|\n",
      "|  1.0|       1.0|[0.26567401979135...|\n",
      "|  1.0|       1.0|[0.26275239015179...|\n",
      "|  1.0|       1.0|[0.44526286725080...|\n",
      "|  1.0|       1.0|[0.26168072481853...|\n",
      "|  1.0|       1.0|[0.08175057747658...|\n",
      "|  1.0|       1.0|[0.20208710634548...|\n",
      "|  1.0|       1.0|[0.16262731814156...|\n",
      "|  1.0|       1.0|[0.23837099014660...|\n",
      "|  1.0|       1.0|[0.25712847562721...|\n",
      "|  1.0|       1.0|[0.30884890258065...|\n",
      "|  1.0|       1.0|[0.16842127348888...|\n",
      "|  1.0|       1.0|[0.12522849768093...|\n",
      "|  1.0|       1.0|[0.15271941262436...|\n",
      "|  1.0|       1.0|[0.19570192896045...|\n",
      "|  1.0|       1.0|[0.17774025554017...|\n",
      "|  1.0|       1.0|[0.25221812905608...|\n",
      "|  1.0|       1.0|[0.33407901351745...|\n",
      "|  1.0|       1.0|[0.45394032265334...|\n",
      "|  1.0|       1.0|[0.45394032265334...|\n",
      "|  1.0|       1.0|[0.12254967239357...|\n",
      "|  1.0|       1.0|[0.25512572224465...|\n",
      "|  1.0|       1.0|[0.28686479434483...|\n",
      "|  1.0|       1.0|[0.24095982246791...|\n",
      "|  1.0|       1.0|[0.33935402088124...|\n",
      "|  1.0|       1.0|[0.26665249084600...|\n",
      "|  1.0|       1.0|[0.33631166854617...|\n",
      "|  0.0|       0.0|[0.61097628083527...|\n",
      "|  0.0|       0.0|[0.73332417925959...|\n",
      "|  0.0|       0.0|[0.72641062096082...|\n",
      "|  0.0|       0.0|[0.77859001750691...|\n",
      "|  0.0|       0.0|[0.77859001750691...|\n",
      "|  0.0|       0.0|[0.79870029120173...|\n",
      "|  0.0|       0.0|[0.78550454573048...|\n",
      "|  1.0|       1.0|[0.33743075151328...|\n",
      "|  1.0|       1.0|[0.33074394928697...|\n",
      "|  0.0|       0.0|[0.73332417925959...|\n",
      "|  0.0|       0.0|[0.73037487851675...|\n",
      "|  0.0|       0.0|[0.70916339073710...|\n",
      "|  0.0|       0.0|[0.75901835686430...|\n",
      "|  0.0|       0.0|[0.77859001750691...|\n",
      "|  0.0|       0.0|[0.79870029120173...|\n",
      "|  0.0|       0.0|[0.79870029120173...|\n",
      "|  0.0|       0.0|[0.79870029120173...|\n",
      "|  0.0|       0.0|[0.79870029120173...|\n",
      "|  0.0|       0.0|[0.78634738737383...|\n",
      "|  0.0|       0.0|[0.73430270490592...|\n",
      "|  0.0|       0.0|[0.72241022993412...|\n",
      "|  0.0|       0.0|[0.75901835686430...|\n",
      "+-----+----------+--------------------+\n",
      "only showing top 102 rows\n",
      "\n"
     ]
    }
   ],
   "source": [
    "selected = predictions.select(\"label\", \"prediction\", \"probability\")\n",
    "selected.show(102)"
   ]
  },
  {
   "cell_type": "code",
   "execution_count": 129,
   "id": "8c31df6f",
   "metadata": {},
   "outputs": [
    {
     "name": "stdout",
     "output_type": "stream",
     "text": [
      "+-----------+\n",
      "|probability|\n",
      "+-----------+\n",
      "|  [1.0,0.0]|\n",
      "|  [0.0,1.0]|\n",
      "|  [0.0,1.0]|\n",
      "|  [0.0,1.0]|\n",
      "|  [0.0,1.0]|\n",
      "|  [0.0,1.0]|\n",
      "|  [0.0,1.0]|\n",
      "|  [0.0,1.0]|\n",
      "|  [0.0,1.0]|\n",
      "|  [0.0,1.0]|\n",
      "+-----------+\n",
      "only showing top 10 rows\n",
      "\n"
     ]
    }
   ],
   "source": [
    "predictions.select(\"probability\").show(10)"
   ]
  },
  {
   "cell_type": "code",
   "execution_count": 128,
   "id": "cebb21e4",
   "metadata": {},
   "outputs": [
    {
     "name": "stdout",
     "output_type": "stream",
     "text": [
      "+-------------+\n",
      "|rawPrediction|\n",
      "+-------------+\n",
      "|  [321.0,0.0]|\n",
      "|  [0.0,329.0]|\n",
      "|  [0.0,329.0]|\n",
      "|  [0.0,329.0]|\n",
      "|  [0.0,329.0]|\n",
      "|  [0.0,329.0]|\n",
      "|  [0.0,329.0]|\n",
      "|  [0.0,329.0]|\n",
      "|  [0.0,329.0]|\n",
      "|  [0.0,329.0]|\n",
      "+-------------+\n",
      "only showing top 10 rows\n",
      "\n"
     ]
    }
   ],
   "source": [
    "predictions.select(\"rawPrediction\").show(10)"
   ]
  },
  {
   "cell_type": "markdown",
   "id": "0131fc82",
   "metadata": {},
   "source": [
    "### Evaluate the model"
   ]
  },
  {
   "cell_type": "code",
   "execution_count": 82,
   "id": "637c1649",
   "metadata": {},
   "outputs": [],
   "source": [
    "cm = predictions.select(\"label\", \"prediction\")"
   ]
  },
  {
   "cell_type": "code",
   "execution_count": 83,
   "id": "5cec992f",
   "metadata": {},
   "outputs": [
    {
     "name": "stdout",
     "output_type": "stream",
     "text": [
      "+-----+------------+\n",
      "|label|count(label)|\n",
      "+-----+------------+\n",
      "|  0.0|          87|\n",
      "|  1.0|          79|\n",
      "+-----+------------+\n",
      "\n"
     ]
    }
   ],
   "source": [
    "cm.groupby('label').agg({'label': 'count'}).show()\n"
   ]
  },
  {
   "cell_type": "code",
   "execution_count": 84,
   "id": "b4ded98d",
   "metadata": {},
   "outputs": [
    {
     "name": "stdout",
     "output_type": "stream",
     "text": [
      "+----------+-----------------+\n",
      "|prediction|count(prediction)|\n",
      "+----------+-----------------+\n",
      "|       0.0|               87|\n",
      "|       1.0|               79|\n",
      "+----------+-----------------+\n",
      "\n"
     ]
    }
   ],
   "source": [
    "cm.groupby('prediction').agg({'prediction': 'count'}).show()\n"
   ]
  },
  {
   "cell_type": "code",
   "execution_count": 85,
   "id": "d9bc3a4d",
   "metadata": {},
   "outputs": [
    {
     "data": {
      "text/plain": [
       "1.0"
      ]
     },
     "execution_count": 85,
     "metadata": {},
     "output_type": "execute_result"
    }
   ],
   "source": [
    "cm.filter(cm.label == cm.prediction).count() / cm.count()"
   ]
  },
  {
   "cell_type": "code",
   "execution_count": 86,
   "id": "36338ab6",
   "metadata": {},
   "outputs": [
    {
     "name": "stdout",
     "output_type": "stream",
     "text": [
      "Model accuracy: 100.000%\n"
     ]
    }
   ],
   "source": [
    "def accuracy_m(model): \n",
    "    predictions = model.transform(test_data)\n",
    "    cm = predictions.select(\"label\", \"prediction\")\n",
    "    acc = cm.filter(cm.label == cm.prediction).count() / cm.count()\n",
    "    print(\"Model accuracy: %.3f%%\" % (acc * 100)) \n",
    "accuracy_m(model = logModel)"
   ]
  },
  {
   "cell_type": "markdown",
   "id": "81a3ec07",
   "metadata": {},
   "source": [
    "### ROC metrics\n",
    " ToDo"
   ]
  },
  {
   "cell_type": "code",
   "execution_count": 87,
   "id": "9c067fbd",
   "metadata": {},
   "outputs": [
    {
     "name": "stdout",
     "output_type": "stream",
     "text": [
      "1.0\n",
      "areaUnderROC\n"
     ]
    }
   ],
   "source": [
    "### Use ROC \n",
    "from pyspark.ml.evaluation import BinaryClassificationEvaluator\n",
    "\n",
    "# Evaluate model\n",
    "evaluator = BinaryClassificationEvaluator(rawPredictionCol=\"rawPrediction\")\n",
    "print(evaluator.evaluate(predictions))\n",
    "print(evaluator.getMetricName())"
   ]
  },
  {
   "cell_type": "markdown",
   "id": "6a59125f",
   "metadata": {},
   "source": [
    "### Confusion matrix metrics"
   ]
  },
  {
   "cell_type": "code",
   "execution_count": 88,
   "id": "86c8b683",
   "metadata": {},
   "outputs": [
    {
     "name": "stdout",
     "output_type": "stream",
     "text": [
      "Accuracy = 1\n",
      "Test Error = 0\n"
     ]
    }
   ],
   "source": [
    "# 4.3 Evaluation\n",
    "from pyspark.ml.evaluation import MulticlassClassificationEvaluator\n",
    "\n",
    "# Select (prediction, true label) and compute test error\n",
    "evaluator = MulticlassClassificationEvaluator(\n",
    "    labelCol=\"label\", predictionCol=\"prediction\", metricName=\"accuracy\")\n",
    "accuracy = evaluator.evaluate(predictions)\n",
    "print(\"Accuracy = %g\" % (accuracy))\n",
    "print(\"Test Error = %g\" % (1.0 - accuracy))\n"
   ]
  },
  {
   "cell_type": "code",
   "execution_count": 89,
   "id": "fafb3ac3",
   "metadata": {},
   "outputs": [
    {
     "name": "stderr",
     "output_type": "stream",
     "text": [
      "/usr/local/spark/python/pyspark/sql/context.py:125: FutureWarning: Deprecated in 3.0.0. Use SparkSession.builder.getOrCreate() instead.\n",
      "  warnings.warn(\n"
     ]
    },
    {
     "name": "stdout",
     "output_type": "stream",
     "text": [
      "DenseMatrix([[87.,  0.],\n",
      "             [ 0., 79.]])\n"
     ]
    }
   ],
   "source": [
    "from pyspark.mllib.evaluation import MulticlassMetrics\n",
    "# Create (prediction, label) pairs\n",
    "predictionAndLabel = predictions.select(\"prediction\", \"label\").rdd\n",
    "# Generate confusion matrix\n",
    "metrics = MulticlassMetrics(predictionAndLabel)\n",
    "print (metrics.confusionMatrix())"
   ]
  },
  {
   "cell_type": "code",
   "execution_count": 90,
   "id": "9e5408fa",
   "metadata": {},
   "outputs": [
    {
     "data": {
      "text/plain": [
       "array([[87,  0],\n",
       "       [ 0, 79]])"
      ]
     },
     "execution_count": 90,
     "metadata": {},
     "output_type": "execute_result"
    }
   ],
   "source": [
    "from sklearn.metrics import confusion_matrix\n",
    "y_true = predictions.select(\"label\")\n",
    "y_true = y_true.toPandas()\n",
    "\n",
    "y_pred = predictions.select(\"prediction\")\n",
    "y_pred = y_pred.toPandas()\n",
    "\n",
    "cnf_matrix = confusion_matrix(y_true, y_pred) # ,labels=class_names\n",
    "cnf_matrix"
   ]
  },
  {
   "cell_type": "code",
   "execution_count": 91,
   "id": "b78e094f",
   "metadata": {},
   "outputs": [
    {
     "name": "stdout",
     "output_type": "stream",
     "text": [
      "              precision    recall  f1-score   support\n",
      "\n",
      "         0.0       1.00      1.00      1.00        87\n",
      "         1.0       1.00      1.00      1.00        79\n",
      "\n",
      "    accuracy                           1.00       166\n",
      "   macro avg       1.00      1.00      1.00       166\n",
      "weighted avg       1.00      1.00      1.00       166\n",
      "\n"
     ]
    }
   ],
   "source": [
    "from sklearn.metrics import classification_report\n",
    "print(classification_report(y_true, y_pred )) #, target_names=class_names"
   ]
  },
  {
   "cell_type": "code",
   "execution_count": 93,
   "id": "8839dc87",
   "metadata": {},
   "outputs": [
    {
     "name": "stderr",
     "output_type": "stream",
     "text": [
      "\r",
      "[Stage 122:>                                                        (0 + 1) / 1]\r",
      "\r",
      "                                                                                \r"
     ]
    }
   ],
   "source": [
    "logModel.save(\"model1/rlmodel\")"
   ]
  },
  {
   "cell_type": "code",
   "execution_count": 94,
   "id": "57353100",
   "metadata": {},
   "outputs": [],
   "source": [
    "pipelineModel.save(\"model1/pipelinemodel\")"
   ]
  },
  {
   "cell_type": "code",
   "execution_count": null,
   "id": "d4022aee",
   "metadata": {},
   "outputs": [],
   "source": [
    "#-------- fin ----, pero ---"
   ]
  },
  {
   "cell_type": "code",
   "execution_count": 95,
   "id": "95328078",
   "metadata": {},
   "outputs": [],
   "source": [
    "# en otra pc\n",
    "from pyspark.ml import PipelineModel\n",
    "\n",
    "pipeline = PipelineModel.load(\"model1/pipelinemodel\")\n",
    "## Fit the pipeline to new data\n",
    "transformeddataset = pipeline.transform(df2)"
   ]
  },
  {
   "cell_type": "code",
   "execution_count": 96,
   "id": "ce478484",
   "metadata": {},
   "outputs": [
    {
     "data": {
      "text/plain": [
       "[Row(Asesorías='NO', Lugar de Venta='LIMA', Participó en Eventos='SI', Tiempo de visitas en días=18, Tiene Muestras='SI', Tipo de Canal='DIRECTO', label='SI', labelIndex=1.0, labelclassVec=SparseVector(1, {}), AsesoríasIndex=0.0, AsesoríasclassVec=SparseVector(1, {0: 1.0}), Participó en EventosIndex=1.0, Participó en EventosclassVec=SparseVector(1, {}), Tiene MuestrasIndex=1.0, Tiene MuestrasclassVec=SparseVector(1, {}), Tipo de CanalIndex=0.0, Tipo de CanalclassVec=SparseVector(1, {0: 1.0}), Lugar de VentaIndex=0.0, Lugar de VentaclassVec=SparseVector(1, {0: 1.0}), newlabel=1.0, features=DenseVector([0.0, 1.0, 0.0, 0.0, 1.0, 1.0, 18.0]))]"
      ]
     },
     "execution_count": 96,
     "metadata": {},
     "output_type": "execute_result"
    }
   ],
   "source": [
    "transformeddataset.take(1)"
   ]
  },
  {
   "cell_type": "code",
   "execution_count": 98,
   "id": "b47a2de2",
   "metadata": {},
   "outputs": [],
   "source": [
    "from pyspark.ml.classification import LogisticRegressionModel\n",
    "\n",
    "modelload = LogisticRegressionModel.load(\"model1/rlmodel\")\n",
    "predictions = modelload.transform(test_data)"
   ]
  },
  {
   "cell_type": "code",
   "execution_count": 99,
   "id": "0f1e4a90",
   "metadata": {},
   "outputs": [
    {
     "name": "stdout",
     "output_type": "stream",
     "text": [
      "+-----+----------+--------------------+\n",
      "|label|prediction|         probability|\n",
      "+-----+----------+--------------------+\n",
      "|  0.0|       0.0|[0.73430270490592...|\n",
      "|  1.0|       1.0|[0.07415908508637...|\n",
      "|  1.0|       1.0|[0.17834763549272...|\n",
      "|  1.0|       1.0|[0.12972646556790...|\n",
      "|  1.0|       1.0|[0.12859951888842...|\n",
      "|  1.0|       1.0|[0.20128052843934...|\n",
      "|  1.0|       1.0|[0.20128052843934...|\n",
      "|  1.0|       1.0|[0.37265366824038...|\n",
      "|  1.0|       1.0|[0.25033317147482...|\n",
      "|  1.0|       1.0|[0.45642497997575...|\n",
      "+-----+----------+--------------------+\n",
      "only showing top 10 rows\n",
      "\n"
     ]
    }
   ],
   "source": [
    "selected = predictions.select(\"label\", \"prediction\", \"probability\")\n",
    "selected.show(10)"
   ]
  },
  {
   "cell_type": "code",
   "execution_count": null,
   "id": "2704b8af",
   "metadata": {},
   "outputs": [],
   "source": []
  },
  {
   "cell_type": "markdown",
   "id": "cc12d5e3",
   "metadata": {},
   "source": [
    "## Clasificardor 2: DecisionTreeClassifier"
   ]
  },
  {
   "cell_type": "code",
   "execution_count": 100,
   "id": "4b4fd59b",
   "metadata": {},
   "outputs": [],
   "source": [
    "from pyspark.ml.classification import DecisionTreeClassifier"
   ]
  },
  {
   "cell_type": "code",
   "execution_count": 101,
   "id": "0208bf20",
   "metadata": {},
   "outputs": [
    {
     "name": "stderr",
     "output_type": "stream",
     "text": [
      "\r",
      "[Stage 242:>                                                      (0 + 16) / 16]\r",
      "\r",
      "                                                                                \r"
     ]
    }
   ],
   "source": [
    "dtree = DecisionTreeClassifier(labelCol='label', featuresCol='features', maxDepth = 4) # maxDepth =4\n",
    "# Fit the data to the model\n",
    "dtreeModel = dtree.fit(train_data)"
   ]
  },
  {
   "cell_type": "code",
   "execution_count": 102,
   "id": "dc601fe2",
   "metadata": {},
   "outputs": [],
   "source": [
    "# Make predictions on test data using the transform() method.\n",
    "predictions = dtreeModel.transform(test_data)"
   ]
  },
  {
   "cell_type": "code",
   "execution_count": 104,
   "id": "fe5691fe",
   "metadata": {},
   "outputs": [
    {
     "name": "stdout",
     "output_type": "stream",
     "text": [
      "+-----+----------+-----------+\n",
      "|label|prediction|probability|\n",
      "+-----+----------+-----------+\n",
      "|  0.0|       0.0|  [1.0,0.0]|\n",
      "|  1.0|       1.0|  [0.0,1.0]|\n",
      "|  1.0|       1.0|  [0.0,1.0]|\n",
      "|  1.0|       1.0|  [0.0,1.0]|\n",
      "|  1.0|       1.0|  [0.0,1.0]|\n",
      "|  1.0|       1.0|  [0.0,1.0]|\n",
      "|  1.0|       1.0|  [0.0,1.0]|\n",
      "|  1.0|       1.0|  [0.0,1.0]|\n",
      "|  1.0|       1.0|  [0.0,1.0]|\n",
      "|  1.0|       1.0|  [0.0,1.0]|\n",
      "+-----+----------+-----------+\n",
      "only showing top 10 rows\n",
      "\n"
     ]
    }
   ],
   "source": [
    "selected = predictions.select(\"label\", \"prediction\", \"probability\")\n",
    "selected.show(10)"
   ]
  },
  {
   "cell_type": "code",
   "execution_count": 105,
   "id": "570a05b8",
   "metadata": {},
   "outputs": [],
   "source": [
    "#Evaluate the model\n",
    "cm = predictions.select(\"label\", \"prediction\")\n"
   ]
  },
  {
   "cell_type": "code",
   "execution_count": 106,
   "id": "cc5733d0",
   "metadata": {},
   "outputs": [
    {
     "name": "stdout",
     "output_type": "stream",
     "text": [
      "+-----+------------+\n",
      "|label|count(label)|\n",
      "+-----+------------+\n",
      "|  0.0|          87|\n",
      "|  1.0|          79|\n",
      "+-----+------------+\n",
      "\n"
     ]
    }
   ],
   "source": [
    "cm.groupby('label').agg({'label': 'count'}).show()\n"
   ]
  },
  {
   "cell_type": "code",
   "execution_count": 107,
   "id": "25793a5e",
   "metadata": {},
   "outputs": [
    {
     "name": "stdout",
     "output_type": "stream",
     "text": [
      "+----------+-----------------+\n",
      "|prediction|count(prediction)|\n",
      "+----------+-----------------+\n",
      "|       0.0|               87|\n",
      "|       1.0|               79|\n",
      "+----------+-----------------+\n",
      "\n"
     ]
    }
   ],
   "source": [
    "cm.groupby('prediction').agg({'prediction': 'count'}).show()\n"
   ]
  },
  {
   "cell_type": "code",
   "execution_count": 108,
   "id": "738c061d",
   "metadata": {},
   "outputs": [
    {
     "data": {
      "text/plain": [
       "1.0"
      ]
     },
     "execution_count": 108,
     "metadata": {},
     "output_type": "execute_result"
    }
   ],
   "source": [
    "cm.filter(cm.label == cm.prediction).count() / cm.count()"
   ]
  },
  {
   "cell_type": "code",
   "execution_count": 109,
   "id": "bb79ef64",
   "metadata": {},
   "outputs": [
    {
     "name": "stdout",
     "output_type": "stream",
     "text": [
      "Model accuracy: 100.000%\n"
     ]
    }
   ],
   "source": [
    "accuracy_m(model = dtreeModel)"
   ]
  },
  {
   "cell_type": "code",
   "execution_count": 110,
   "id": "ab46f459",
   "metadata": {},
   "outputs": [
    {
     "name": "stdout",
     "output_type": "stream",
     "text": [
      "1.0\n",
      "areaUnderROC\n"
     ]
    }
   ],
   "source": [
    "# ROC metrics\n",
    "# Evaluate model\n",
    "evaluator = BinaryClassificationEvaluator(rawPredictionCol=\"rawPrediction\")\n",
    "print(evaluator.evaluate(predictions))\n",
    "print(evaluator.getMetricName())"
   ]
  },
  {
   "cell_type": "code",
   "execution_count": 111,
   "id": "df70fa86",
   "metadata": {},
   "outputs": [
    {
     "name": "stdout",
     "output_type": "stream",
     "text": [
      "Accuracy = 1\n",
      "Test Error = 0\n"
     ]
    }
   ],
   "source": [
    "# Confusion matrix metrics\n",
    "# Select (prediction, true label) and compute test error\n",
    "evaluator = MulticlassClassificationEvaluator(\n",
    "    labelCol=\"label\", predictionCol=\"prediction\", metricName=\"accuracy\")\n",
    "accuracy = evaluator.evaluate(predictions)\n",
    "print(\"Accuracy = %g\" % (accuracy))\n",
    "print(\"Test Error = %g\" % (1.0 - accuracy))"
   ]
  },
  {
   "cell_type": "code",
   "execution_count": 112,
   "id": "434b911f",
   "metadata": {},
   "outputs": [
    {
     "name": "stderr",
     "output_type": "stream",
     "text": [
      "/usr/local/spark/python/pyspark/sql/context.py:125: FutureWarning: Deprecated in 3.0.0. Use SparkSession.builder.getOrCreate() instead.\n",
      "  warnings.warn(\n"
     ]
    },
    {
     "name": "stdout",
     "output_type": "stream",
     "text": [
      "DenseMatrix([[87.,  0.],\n",
      "             [ 0., 79.]])\n"
     ]
    }
   ],
   "source": [
    "from pyspark.mllib.evaluation import MulticlassMetrics\n",
    "# Create (prediction, label) pairs\n",
    "predictionAndLabel = predictions.select(\"prediction\", \"label\").rdd\n",
    "# Generate confusion matrix\n",
    "metrics = MulticlassMetrics(predictionAndLabel)\n",
    "print (metrics.confusionMatrix())"
   ]
  },
  {
   "cell_type": "code",
   "execution_count": 113,
   "id": "02eed854",
   "metadata": {},
   "outputs": [
    {
     "data": {
      "text/plain": [
       "array([[87,  0],\n",
       "       [ 0, 79]])"
      ]
     },
     "execution_count": 113,
     "metadata": {},
     "output_type": "execute_result"
    }
   ],
   "source": [
    "from sklearn.metrics import confusion_matrix\n",
    "y_true = predictions.select(\"label\")\n",
    "y_true = y_true.toPandas()\n",
    "\n",
    "y_pred = predictions.select(\"prediction\")\n",
    "y_pred = y_pred.toPandas()\n",
    "\n",
    "cnf_matrix = confusion_matrix(y_true, y_pred) # ,labels=class_names\n",
    "cnf_matrix"
   ]
  },
  {
   "cell_type": "code",
   "execution_count": 114,
   "id": "63166732",
   "metadata": {},
   "outputs": [
    {
     "name": "stdout",
     "output_type": "stream",
     "text": [
      "              precision    recall  f1-score   support\n",
      "\n",
      "         0.0       1.00      1.00      1.00        87\n",
      "         1.0       1.00      1.00      1.00        79\n",
      "\n",
      "    accuracy                           1.00       166\n",
      "   macro avg       1.00      1.00      1.00       166\n",
      "weighted avg       1.00      1.00      1.00       166\n",
      "\n"
     ]
    }
   ],
   "source": [
    "from sklearn.metrics import classification_report\n",
    "print(classification_report(y_true, y_pred )) #, target_names=class_names"
   ]
  },
  {
   "cell_type": "code",
   "execution_count": 115,
   "id": "cde33f25",
   "metadata": {},
   "outputs": [],
   "source": [
    "dtreeModel.save(\"model2/dtmodel\")"
   ]
  },
  {
   "cell_type": "code",
   "execution_count": 121,
   "id": "56a955a1",
   "metadata": {},
   "outputs": [],
   "source": [
    "from pyspark.ml.classification import DecisionTreeClassificationModel\n",
    "\n",
    "dtmodelload = DecisionTreeClassificationModel.load(\"model2/dtmodel\")\n",
    "predictions = dtmodelload.transform(test_data)"
   ]
  },
  {
   "cell_type": "code",
   "execution_count": 123,
   "id": "77cc8b78",
   "metadata": {},
   "outputs": [
    {
     "name": "stdout",
     "output_type": "stream",
     "text": [
      "+-----+----------+-----------+\n",
      "|label|prediction|probability|\n",
      "+-----+----------+-----------+\n",
      "|  0.0|       0.0|  [1.0,0.0]|\n",
      "|  1.0|       1.0|  [0.0,1.0]|\n",
      "|  1.0|       1.0|  [0.0,1.0]|\n",
      "|  1.0|       1.0|  [0.0,1.0]|\n",
      "|  1.0|       1.0|  [0.0,1.0]|\n",
      "|  1.0|       1.0|  [0.0,1.0]|\n",
      "|  1.0|       1.0|  [0.0,1.0]|\n",
      "|  1.0|       1.0|  [0.0,1.0]|\n",
      "|  1.0|       1.0|  [0.0,1.0]|\n",
      "|  1.0|       1.0|  [0.0,1.0]|\n",
      "+-----+----------+-----------+\n",
      "only showing top 10 rows\n",
      "\n"
     ]
    }
   ],
   "source": [
    "selected = predictions.select(\"label\", \"prediction\", \"probability\")\n",
    "selected.show(10)"
   ]
  },
  {
   "cell_type": "code",
   "execution_count": 126,
   "id": "2c94310f",
   "metadata": {},
   "outputs": [
    {
     "name": "stdout",
     "output_type": "stream",
     "text": [
      "+-----+--------------------+\n",
      "|label|            features|\n",
      "+-----+--------------------+\n",
      "|  0.0|[1.0,1.0,0.0,0.0,...|\n",
      "|  1.0|[0.0,0.0,0.0,0.0,...|\n",
      "|  1.0|[0.0,0.0,1.0,1.0,...|\n",
      "|  1.0|[0.0,1.0,0.0,0.0,...|\n",
      "|  1.0|[0.0,1.0,0.0,0.0,...|\n",
      "|  1.0|[0.0,1.0,0.0,0.0,...|\n",
      "|  1.0|[0.0,1.0,0.0,0.0,...|\n",
      "|  1.0|[0.0,1.0,0.0,1.0,...|\n",
      "|  1.0|[0.0,1.0,1.0,1.0,...|\n",
      "|  1.0|[0.0,1.0,1.0,1.0,...|\n",
      "+-----+--------------------+\n",
      "only showing top 10 rows\n",
      "\n"
     ]
    }
   ],
   "source": [
    "test_data.show(10)"
   ]
  },
  {
   "cell_type": "code",
   "execution_count": null,
   "id": "7400a063",
   "metadata": {},
   "outputs": [],
   "source": []
  }
 ],
 "metadata": {
  "kernelspec": {
   "display_name": "Python 3 (ipykernel)",
   "language": "python",
   "name": "python3"
  },
  "language_info": {
   "codemirror_mode": {
    "name": "ipython",
    "version": 3
   },
   "file_extension": ".py",
   "mimetype": "text/x-python",
   "name": "python",
   "nbconvert_exporter": "python",
   "pygments_lexer": "ipython3",
   "version": "3.12.7"
  }
 },
 "nbformat": 4,
 "nbformat_minor": 5
}
